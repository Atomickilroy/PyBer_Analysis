{
 "cells": [
  {
   "cell_type": "code",
   "execution_count": 535,
   "id": "2bd2ac56",
   "metadata": {},
   "outputs": [],
   "source": [
    "# Add the magic\n",
    "%matplotlib inline"
   ]
  },
  {
   "cell_type": "code",
   "execution_count": 536,
   "id": "ba164ae7",
   "metadata": {},
   "outputs": [],
   "source": [
    "#Add in the dependencies\n",
    "\n",
    "import matplotlib.pyplot as plt\n",
    "import numpy as np\n",
    "import statistics\n",
    "import pandas as pd"
   ]
  },
  {
   "cell_type": "code",
   "execution_count": 537,
   "id": "648b8119",
   "metadata": {},
   "outputs": [],
   "source": [
    "#Files to load\n",
    "\n",
    "#city_data_to_load =pd.read_csv(\"Resources/city_data.csv\")\n",
    "\n",
    "#ride_data_to_load =pd.read_csv(\"Resources/ride_data.csv\")"
   ]
  },
  {
   "cell_type": "code",
   "execution_count": 538,
   "id": "3975d564",
   "metadata": {},
   "outputs": [],
   "source": [
    "#reminder, another way importing the csv is by\n",
    "\n",
    "import os \n",
    "\n",
    "city_data_to_load =\"Resources/city_data.csv\"\n",
    "\n",
    "ride_data_to_load =\"Resources/ride_data.csv\""
   ]
  },
  {
   "cell_type": "code",
   "execution_count": 539,
   "id": "9b40c026",
   "metadata": {},
   "outputs": [],
   "source": [
    "#Use the pd.read_csv() then store files into a Pandas Dataframes "
   ]
  },
  {
   "cell_type": "code",
   "execution_count": 540,
   "id": "d0889ec6",
   "metadata": {},
   "outputs": [],
   "source": [
    "#Create the Dataframes \n",
    "city_data_df =pd.read_csv(city_data_to_load)\n",
    "\n",
    "ride_data_df=pd.read_csv(ride_data_to_load)"
   ]
  },
  {
   "cell_type": "code",
   "execution_count": 541,
   "id": "56fd6f49",
   "metadata": {},
   "outputs": [
    {
     "data": {
      "text/html": [
       "<div>\n",
       "<style scoped>\n",
       "    .dataframe tbody tr th:only-of-type {\n",
       "        vertical-align: middle;\n",
       "    }\n",
       "\n",
       "    .dataframe tbody tr th {\n",
       "        vertical-align: top;\n",
       "    }\n",
       "\n",
       "    .dataframe thead th {\n",
       "        text-align: right;\n",
       "    }\n",
       "</style>\n",
       "<table border=\"1\" class=\"dataframe\">\n",
       "  <thead>\n",
       "    <tr style=\"text-align: right;\">\n",
       "      <th></th>\n",
       "      <th>city</th>\n",
       "      <th>driver_count</th>\n",
       "      <th>type</th>\n",
       "    </tr>\n",
       "  </thead>\n",
       "  <tbody>\n",
       "    <tr>\n",
       "      <th>0</th>\n",
       "      <td>Richardfort</td>\n",
       "      <td>38</td>\n",
       "      <td>Urban</td>\n",
       "    </tr>\n",
       "    <tr>\n",
       "      <th>1</th>\n",
       "      <td>Williamsstad</td>\n",
       "      <td>59</td>\n",
       "      <td>Urban</td>\n",
       "    </tr>\n",
       "    <tr>\n",
       "      <th>2</th>\n",
       "      <td>Port Angela</td>\n",
       "      <td>67</td>\n",
       "      <td>Urban</td>\n",
       "    </tr>\n",
       "    <tr>\n",
       "      <th>3</th>\n",
       "      <td>Rodneyfort</td>\n",
       "      <td>34</td>\n",
       "      <td>Urban</td>\n",
       "    </tr>\n",
       "    <tr>\n",
       "      <th>4</th>\n",
       "      <td>West Robert</td>\n",
       "      <td>39</td>\n",
       "      <td>Urban</td>\n",
       "    </tr>\n",
       "    <tr>\n",
       "      <th>5</th>\n",
       "      <td>West Anthony</td>\n",
       "      <td>70</td>\n",
       "      <td>Urban</td>\n",
       "    </tr>\n",
       "    <tr>\n",
       "      <th>6</th>\n",
       "      <td>West Angela</td>\n",
       "      <td>48</td>\n",
       "      <td>Urban</td>\n",
       "    </tr>\n",
       "    <tr>\n",
       "      <th>7</th>\n",
       "      <td>Martinezhaven</td>\n",
       "      <td>25</td>\n",
       "      <td>Urban</td>\n",
       "    </tr>\n",
       "    <tr>\n",
       "      <th>8</th>\n",
       "      <td>Karenberg</td>\n",
       "      <td>22</td>\n",
       "      <td>Urban</td>\n",
       "    </tr>\n",
       "    <tr>\n",
       "      <th>9</th>\n",
       "      <td>Barajasview</td>\n",
       "      <td>26</td>\n",
       "      <td>Urban</td>\n",
       "    </tr>\n",
       "  </tbody>\n",
       "</table>\n",
       "</div>"
      ],
      "text/plain": [
       "            city  driver_count   type\n",
       "0    Richardfort            38  Urban\n",
       "1   Williamsstad            59  Urban\n",
       "2    Port Angela            67  Urban\n",
       "3     Rodneyfort            34  Urban\n",
       "4    West Robert            39  Urban\n",
       "5   West Anthony            70  Urban\n",
       "6    West Angela            48  Urban\n",
       "7  Martinezhaven            25  Urban\n",
       "8      Karenberg            22  Urban\n",
       "9    Barajasview            26  Urban"
      ]
     },
     "execution_count": 541,
     "metadata": {},
     "output_type": "execute_result"
    }
   ],
   "source": [
    "#Read city_data_df\n",
    "city_data_df.head(10)"
   ]
  },
  {
   "cell_type": "code",
   "execution_count": 542,
   "id": "087f57c2",
   "metadata": {},
   "outputs": [
    {
     "data": {
      "text/html": [
       "<div>\n",
       "<style scoped>\n",
       "    .dataframe tbody tr th:only-of-type {\n",
       "        vertical-align: middle;\n",
       "    }\n",
       "\n",
       "    .dataframe tbody tr th {\n",
       "        vertical-align: top;\n",
       "    }\n",
       "\n",
       "    .dataframe thead th {\n",
       "        text-align: right;\n",
       "    }\n",
       "</style>\n",
       "<table border=\"1\" class=\"dataframe\">\n",
       "  <thead>\n",
       "    <tr style=\"text-align: right;\">\n",
       "      <th></th>\n",
       "      <th>city</th>\n",
       "      <th>date</th>\n",
       "      <th>fare</th>\n",
       "      <th>ride_id</th>\n",
       "    </tr>\n",
       "  </thead>\n",
       "  <tbody>\n",
       "    <tr>\n",
       "      <th>0</th>\n",
       "      <td>Lake Jonathanshire</td>\n",
       "      <td>2019-01-14 10:14:22</td>\n",
       "      <td>13.83</td>\n",
       "      <td>5739410935873</td>\n",
       "    </tr>\n",
       "    <tr>\n",
       "      <th>1</th>\n",
       "      <td>South Michelleport</td>\n",
       "      <td>2019-03-04 18:24:09</td>\n",
       "      <td>30.24</td>\n",
       "      <td>2343912425577</td>\n",
       "    </tr>\n",
       "    <tr>\n",
       "      <th>2</th>\n",
       "      <td>Port Samanthamouth</td>\n",
       "      <td>2019-02-24 04:29:00</td>\n",
       "      <td>33.44</td>\n",
       "      <td>2005065760003</td>\n",
       "    </tr>\n",
       "    <tr>\n",
       "      <th>3</th>\n",
       "      <td>Rodneyfort</td>\n",
       "      <td>2019-02-10 23:22:03</td>\n",
       "      <td>23.44</td>\n",
       "      <td>5149245426178</td>\n",
       "    </tr>\n",
       "    <tr>\n",
       "      <th>4</th>\n",
       "      <td>South Jack</td>\n",
       "      <td>2019-03-06 04:28:35</td>\n",
       "      <td>34.58</td>\n",
       "      <td>3908451377344</td>\n",
       "    </tr>\n",
       "    <tr>\n",
       "      <th>5</th>\n",
       "      <td>South Latoya</td>\n",
       "      <td>2019-03-11 12:26:48</td>\n",
       "      <td>9.52</td>\n",
       "      <td>1994999424437</td>\n",
       "    </tr>\n",
       "    <tr>\n",
       "      <th>6</th>\n",
       "      <td>New Paulville</td>\n",
       "      <td>2019-02-27 11:17:56</td>\n",
       "      <td>43.25</td>\n",
       "      <td>793208410091</td>\n",
       "    </tr>\n",
       "    <tr>\n",
       "      <th>7</th>\n",
       "      <td>Simpsonburgh</td>\n",
       "      <td>2019-04-26 00:43:24</td>\n",
       "      <td>35.98</td>\n",
       "      <td>111953927754</td>\n",
       "    </tr>\n",
       "    <tr>\n",
       "      <th>8</th>\n",
       "      <td>South Karenland</td>\n",
       "      <td>2019-01-08 03:28:48</td>\n",
       "      <td>35.09</td>\n",
       "      <td>7995623208694</td>\n",
       "    </tr>\n",
       "    <tr>\n",
       "      <th>9</th>\n",
       "      <td>North Jasmine</td>\n",
       "      <td>2019-03-09 06:26:29</td>\n",
       "      <td>42.81</td>\n",
       "      <td>5327642267789</td>\n",
       "    </tr>\n",
       "  </tbody>\n",
       "</table>\n",
       "</div>"
      ],
      "text/plain": [
       "                 city                 date   fare        ride_id\n",
       "0  Lake Jonathanshire  2019-01-14 10:14:22  13.83  5739410935873\n",
       "1  South Michelleport  2019-03-04 18:24:09  30.24  2343912425577\n",
       "2  Port Samanthamouth  2019-02-24 04:29:00  33.44  2005065760003\n",
       "3          Rodneyfort  2019-02-10 23:22:03  23.44  5149245426178\n",
       "4          South Jack  2019-03-06 04:28:35  34.58  3908451377344\n",
       "5        South Latoya  2019-03-11 12:26:48   9.52  1994999424437\n",
       "6       New Paulville  2019-02-27 11:17:56  43.25   793208410091\n",
       "7        Simpsonburgh  2019-04-26 00:43:24  35.98   111953927754\n",
       "8     South Karenland  2019-01-08 03:28:48  35.09  7995623208694\n",
       "9       North Jasmine  2019-03-09 06:26:29  42.81  5327642267789"
      ]
     },
     "execution_count": 542,
     "metadata": {},
     "output_type": "execute_result"
    }
   ],
   "source": [
    "#Read the ride_data_df\n",
    "ride_data_df.head(10)"
   ]
  },
  {
   "cell_type": "code",
   "execution_count": null,
   "id": "6d9de77b",
   "metadata": {},
   "outputs": [],
   "source": []
  },
  {
   "cell_type": "code",
   "execution_count": 543,
   "id": "3e57de3c",
   "metadata": {},
   "outputs": [],
   "source": [
    "#5.2.4 Inspect the Data"
   ]
  },
  {
   "cell_type": "code",
   "execution_count": 544,
   "id": "2730e8f5",
   "metadata": {
    "scrolled": true
   },
   "outputs": [
    {
     "data": {
      "text/plain": [
       "city            120\n",
       "driver_count    120\n",
       "type            120\n",
       "dtype: int64"
      ]
     },
     "execution_count": 544,
     "metadata": {},
     "output_type": "execute_result"
    }
   ],
   "source": [
    "#Begin by findinf all the rows thats are not null by:\n",
    "    # count() method or\n",
    "    # isnull().sum() method chaining\n",
    "    \n",
    "city_data_df.count()"
   ]
  },
  {
   "cell_type": "code",
   "execution_count": 545,
   "id": "6407a01d",
   "metadata": {},
   "outputs": [],
   "source": [
    "#Run the cell, and you'll see that the output shows the data types for each column. \n",
    "#Most importantly, the data type for the driver_count column is an integer"
   ]
  },
  {
   "cell_type": "code",
   "execution_count": null,
   "id": "40fa89e9",
   "metadata": {},
   "outputs": [],
   "source": []
  },
  {
   "cell_type": "code",
   "execution_count": 546,
   "id": "4f6fef7e",
   "metadata": {},
   "outputs": [],
   "source": [
    "#Find the well check how many data points there are for city type"
   ]
  },
  {
   "cell_type": "code",
   "execution_count": 547,
   "id": "03b0ebea",
   "metadata": {},
   "outputs": [
    {
     "data": {
      "text/plain": [
       "array(['Urban', 'Suburban', 'Rural'], dtype=object)"
      ]
     },
     "execution_count": 547,
     "metadata": {},
     "output_type": "execute_result"
    }
   ],
   "source": [
    "#Get the unique value for the type of city using the .unique() method\n",
    "\n",
    "city_data_df[\"type\"].unique()"
   ]
  },
  {
   "cell_type": "code",
   "execution_count": 548,
   "id": "0fe92c9d",
   "metadata": {},
   "outputs": [],
   "source": [
    "# Now use the sum()method for the type column where the condition is = to either of the 3 cat."
   ]
  },
  {
   "cell_type": "code",
   "execution_count": 549,
   "id": "5c203a4e",
   "metadata": {},
   "outputs": [
    {
     "data": {
      "text/plain": [
       "66"
      ]
     },
     "execution_count": 549,
     "metadata": {},
     "output_type": "execute_result"
    }
   ],
   "source": [
    "#Get the number of data points from the Urban cities\n",
    "\n",
    "urban_sum = sum(city_data_df[\"type\"]==\"Urban\")\n",
    "\n",
    "urban_sum"
   ]
  },
  {
   "cell_type": "code",
   "execution_count": 550,
   "id": "fba12061",
   "metadata": {},
   "outputs": [
    {
     "data": {
      "text/plain": [
       "18"
      ]
     },
     "execution_count": 550,
     "metadata": {},
     "output_type": "execute_result"
    }
   ],
   "source": [
    "#Get the sum of both Rural citites\n",
    "\n",
    "rural_sum= sum(city_data_df[\"type\"]==\"Rural\")\n",
    "\n",
    "rural_sum"
   ]
  },
  {
   "cell_type": "code",
   "execution_count": 551,
   "id": "80bc59be",
   "metadata": {},
   "outputs": [
    {
     "data": {
      "text/plain": [
       "36"
      ]
     },
     "execution_count": 551,
     "metadata": {},
     "output_type": "execute_result"
    }
   ],
   "source": [
    "#Get the sum of Suburban cities\n",
    "\n",
    "suburban_sum= sum(city_data_df[\"type\"]==\"Suburban\")\n",
    "\n",
    "suburban_sum"
   ]
  },
  {
   "cell_type": "code",
   "execution_count": null,
   "id": "7c7c3611",
   "metadata": {},
   "outputs": [],
   "source": []
  },
  {
   "cell_type": "code",
   "execution_count": 552,
   "id": "3796815c",
   "metadata": {},
   "outputs": [],
   "source": [
    "#Inspect Ride Data DataFrame"
   ]
  },
  {
   "cell_type": "code",
   "execution_count": 553,
   "id": "3288c1ff",
   "metadata": {},
   "outputs": [
    {
     "data": {
      "text/plain": [
       "city       2375\n",
       "date       2375\n",
       "fare       2375\n",
       "ride_id    2375\n",
       "dtype: int64"
      ]
     },
     "execution_count": 553,
     "metadata": {},
     "output_type": "execute_result"
    }
   ],
   "source": [
    "#Get the rows and colums that are not null\n",
    "\n",
    "ride_data_df.count()"
   ]
  },
  {
   "cell_type": "code",
   "execution_count": 554,
   "id": "484abbe8",
   "metadata": {},
   "outputs": [],
   "source": [
    "#no null values"
   ]
  },
  {
   "cell_type": "code",
   "execution_count": null,
   "id": "7f7b74a8",
   "metadata": {},
   "outputs": [],
   "source": []
  },
  {
   "cell_type": "code",
   "execution_count": 555,
   "id": "af6bddb4",
   "metadata": {},
   "outputs": [
    {
     "data": {
      "text/plain": [
       "city        object\n",
       "date        object\n",
       "fare       float64\n",
       "ride_id      int64\n",
       "dtype: object"
      ]
     },
     "execution_count": 555,
     "metadata": {},
     "output_type": "execute_result"
    }
   ],
   "source": [
    "#Next, we need to determine if the fare and ride_id columns are numerical data types \n",
    "#so that we can perform mathematical calculations on those columns.\n",
    "\n",
    "#Get the data types for each column\n",
    "\n",
    "ride_data_df.dtypes"
   ]
  },
  {
   "cell_type": "code",
   "execution_count": 556,
   "id": "3416e964",
   "metadata": {},
   "outputs": [],
   "source": [
    "#mhmm yep looks like everything is in order"
   ]
  },
  {
   "cell_type": "code",
   "execution_count": null,
   "id": "c51b2c0e",
   "metadata": {},
   "outputs": [],
   "source": []
  },
  {
   "cell_type": "code",
   "execution_count": 557,
   "id": "3d5f26a2",
   "metadata": {},
   "outputs": [],
   "source": [
    "#Now to merge the DF'S\n",
    "    #Real quick tho le's review"
   ]
  },
  {
   "cell_type": "code",
   "execution_count": 558,
   "id": "71bb24de",
   "metadata": {},
   "outputs": [],
   "source": [
    "#Before we merge the DataFrames, let's review each DataFrame.\n",
    "\n",
    "    #The columns in the city_data_df DataFrame are:\n",
    "\n",
    "        #city\n",
    "        #driver_count\n",
    "        #type\n",
    "        \n",
    "    #The columns in the ride_data_df are:\n",
    "\n",
    "        #city\n",
    "        #date\n",
    "        #fare\n",
    "        #ride_id"
   ]
  },
  {
   "cell_type": "code",
   "execution_count": 559,
   "id": "9000cd3a",
   "metadata": {},
   "outputs": [],
   "source": [
    "#Combine the data into a single dataset\n",
    "\n",
    "pyber_data_df = pd.merge(ride_data_df, city_data_df, how ='left', on= ['city','city'])"
   ]
  },
  {
   "cell_type": "code",
   "execution_count": 560,
   "id": "cb948556",
   "metadata": {},
   "outputs": [],
   "source": [
    "#Now that that checks out\n",
    "#Display the DataFrame :)"
   ]
  },
  {
   "cell_type": "code",
   "execution_count": 561,
   "id": "9dd109d2",
   "metadata": {},
   "outputs": [
    {
     "data": {
      "text/html": [
       "<div>\n",
       "<style scoped>\n",
       "    .dataframe tbody tr th:only-of-type {\n",
       "        vertical-align: middle;\n",
       "    }\n",
       "\n",
       "    .dataframe tbody tr th {\n",
       "        vertical-align: top;\n",
       "    }\n",
       "\n",
       "    .dataframe thead th {\n",
       "        text-align: right;\n",
       "    }\n",
       "</style>\n",
       "<table border=\"1\" class=\"dataframe\">\n",
       "  <thead>\n",
       "    <tr style=\"text-align: right;\">\n",
       "      <th></th>\n",
       "      <th>city</th>\n",
       "      <th>date</th>\n",
       "      <th>fare</th>\n",
       "      <th>ride_id</th>\n",
       "      <th>driver_count</th>\n",
       "      <th>type</th>\n",
       "    </tr>\n",
       "  </thead>\n",
       "  <tbody>\n",
       "    <tr>\n",
       "      <th>0</th>\n",
       "      <td>Lake Jonathanshire</td>\n",
       "      <td>2019-01-14 10:14:22</td>\n",
       "      <td>13.83</td>\n",
       "      <td>5739410935873</td>\n",
       "      <td>5</td>\n",
       "      <td>Urban</td>\n",
       "    </tr>\n",
       "    <tr>\n",
       "      <th>1</th>\n",
       "      <td>South Michelleport</td>\n",
       "      <td>2019-03-04 18:24:09</td>\n",
       "      <td>30.24</td>\n",
       "      <td>2343912425577</td>\n",
       "      <td>72</td>\n",
       "      <td>Urban</td>\n",
       "    </tr>\n",
       "    <tr>\n",
       "      <th>2</th>\n",
       "      <td>Port Samanthamouth</td>\n",
       "      <td>2019-02-24 04:29:00</td>\n",
       "      <td>33.44</td>\n",
       "      <td>2005065760003</td>\n",
       "      <td>57</td>\n",
       "      <td>Urban</td>\n",
       "    </tr>\n",
       "    <tr>\n",
       "      <th>3</th>\n",
       "      <td>Rodneyfort</td>\n",
       "      <td>2019-02-10 23:22:03</td>\n",
       "      <td>23.44</td>\n",
       "      <td>5149245426178</td>\n",
       "      <td>34</td>\n",
       "      <td>Urban</td>\n",
       "    </tr>\n",
       "    <tr>\n",
       "      <th>4</th>\n",
       "      <td>South Jack</td>\n",
       "      <td>2019-03-06 04:28:35</td>\n",
       "      <td>34.58</td>\n",
       "      <td>3908451377344</td>\n",
       "      <td>46</td>\n",
       "      <td>Urban</td>\n",
       "    </tr>\n",
       "    <tr>\n",
       "      <th>5</th>\n",
       "      <td>South Latoya</td>\n",
       "      <td>2019-03-11 12:26:48</td>\n",
       "      <td>9.52</td>\n",
       "      <td>1994999424437</td>\n",
       "      <td>10</td>\n",
       "      <td>Urban</td>\n",
       "    </tr>\n",
       "    <tr>\n",
       "      <th>6</th>\n",
       "      <td>New Paulville</td>\n",
       "      <td>2019-02-27 11:17:56</td>\n",
       "      <td>43.25</td>\n",
       "      <td>793208410091</td>\n",
       "      <td>44</td>\n",
       "      <td>Urban</td>\n",
       "    </tr>\n",
       "    <tr>\n",
       "      <th>7</th>\n",
       "      <td>Simpsonburgh</td>\n",
       "      <td>2019-04-26 00:43:24</td>\n",
       "      <td>35.98</td>\n",
       "      <td>111953927754</td>\n",
       "      <td>21</td>\n",
       "      <td>Urban</td>\n",
       "    </tr>\n",
       "    <tr>\n",
       "      <th>8</th>\n",
       "      <td>South Karenland</td>\n",
       "      <td>2019-01-08 03:28:48</td>\n",
       "      <td>35.09</td>\n",
       "      <td>7995623208694</td>\n",
       "      <td>4</td>\n",
       "      <td>Urban</td>\n",
       "    </tr>\n",
       "    <tr>\n",
       "      <th>9</th>\n",
       "      <td>North Jasmine</td>\n",
       "      <td>2019-03-09 06:26:29</td>\n",
       "      <td>42.81</td>\n",
       "      <td>5327642267789</td>\n",
       "      <td>33</td>\n",
       "      <td>Urban</td>\n",
       "    </tr>\n",
       "  </tbody>\n",
       "</table>\n",
       "</div>"
      ],
      "text/plain": [
       "                 city                 date   fare        ride_id  \\\n",
       "0  Lake Jonathanshire  2019-01-14 10:14:22  13.83  5739410935873   \n",
       "1  South Michelleport  2019-03-04 18:24:09  30.24  2343912425577   \n",
       "2  Port Samanthamouth  2019-02-24 04:29:00  33.44  2005065760003   \n",
       "3          Rodneyfort  2019-02-10 23:22:03  23.44  5149245426178   \n",
       "4          South Jack  2019-03-06 04:28:35  34.58  3908451377344   \n",
       "5        South Latoya  2019-03-11 12:26:48   9.52  1994999424437   \n",
       "6       New Paulville  2019-02-27 11:17:56  43.25   793208410091   \n",
       "7        Simpsonburgh  2019-04-26 00:43:24  35.98   111953927754   \n",
       "8     South Karenland  2019-01-08 03:28:48  35.09  7995623208694   \n",
       "9       North Jasmine  2019-03-09 06:26:29  42.81  5327642267789   \n",
       "\n",
       "   driver_count   type  \n",
       "0             5  Urban  \n",
       "1            72  Urban  \n",
       "2            57  Urban  \n",
       "3            34  Urban  \n",
       "4            46  Urban  \n",
       "5            10  Urban  \n",
       "6            44  Urban  \n",
       "7            21  Urban  \n",
       "8             4  Urban  \n",
       "9            33  Urban  "
      ]
     },
     "execution_count": 561,
     "metadata": {},
     "output_type": "execute_result"
    }
   ],
   "source": [
    "pyber_data_df.head(10)"
   ]
  },
  {
   "cell_type": "code",
   "execution_count": 562,
   "id": "0a631a15",
   "metadata": {},
   "outputs": [],
   "source": [
    "#In the pyber_data_df DataFrame, all the columns from the city_data_df are the first four columns after the index.\n",
    "\n",
    "#The driver_count and type columns from the ride_data_df are added at the end"
   ]
  },
  {
   "cell_type": "code",
   "execution_count": null,
   "id": "ca411149",
   "metadata": {},
   "outputs": [],
   "source": []
  },
  {
   "cell_type": "code",
   "execution_count": 563,
   "id": "dbd004be",
   "metadata": {},
   "outputs": [],
   "source": [
    "#5.2.5 Commit your code"
   ]
  },
  {
   "cell_type": "code",
   "execution_count": 564,
   "id": "c80320b4",
   "metadata": {},
   "outputs": [],
   "source": [
    "#Rounds 2"
   ]
  },
  {
   "cell_type": "code",
   "execution_count": 565,
   "id": "3a831f12",
   "metadata": {},
   "outputs": [
    {
     "data": {
      "text/html": [
       "<div>\n",
       "<style scoped>\n",
       "    .dataframe tbody tr th:only-of-type {\n",
       "        vertical-align: middle;\n",
       "    }\n",
       "\n",
       "    .dataframe tbody tr th {\n",
       "        vertical-align: top;\n",
       "    }\n",
       "\n",
       "    .dataframe thead th {\n",
       "        text-align: right;\n",
       "    }\n",
       "</style>\n",
       "<table border=\"1\" class=\"dataframe\">\n",
       "  <thead>\n",
       "    <tr style=\"text-align: right;\">\n",
       "      <th></th>\n",
       "      <th>city</th>\n",
       "      <th>date</th>\n",
       "      <th>fare</th>\n",
       "      <th>ride_id</th>\n",
       "      <th>driver_count</th>\n",
       "      <th>type</th>\n",
       "    </tr>\n",
       "  </thead>\n",
       "  <tbody>\n",
       "    <tr>\n",
       "      <th>0</th>\n",
       "      <td>Lake Jonathanshire</td>\n",
       "      <td>2019-01-14 10:14:22</td>\n",
       "      <td>13.83</td>\n",
       "      <td>5739410935873</td>\n",
       "      <td>5</td>\n",
       "      <td>Urban</td>\n",
       "    </tr>\n",
       "    <tr>\n",
       "      <th>1</th>\n",
       "      <td>South Michelleport</td>\n",
       "      <td>2019-03-04 18:24:09</td>\n",
       "      <td>30.24</td>\n",
       "      <td>2343912425577</td>\n",
       "      <td>72</td>\n",
       "      <td>Urban</td>\n",
       "    </tr>\n",
       "    <tr>\n",
       "      <th>2</th>\n",
       "      <td>Port Samanthamouth</td>\n",
       "      <td>2019-02-24 04:29:00</td>\n",
       "      <td>33.44</td>\n",
       "      <td>2005065760003</td>\n",
       "      <td>57</td>\n",
       "      <td>Urban</td>\n",
       "    </tr>\n",
       "    <tr>\n",
       "      <th>3</th>\n",
       "      <td>Rodneyfort</td>\n",
       "      <td>2019-02-10 23:22:03</td>\n",
       "      <td>23.44</td>\n",
       "      <td>5149245426178</td>\n",
       "      <td>34</td>\n",
       "      <td>Urban</td>\n",
       "    </tr>\n",
       "    <tr>\n",
       "      <th>4</th>\n",
       "      <td>South Jack</td>\n",
       "      <td>2019-03-06 04:28:35</td>\n",
       "      <td>34.58</td>\n",
       "      <td>3908451377344</td>\n",
       "      <td>46</td>\n",
       "      <td>Urban</td>\n",
       "    </tr>\n",
       "  </tbody>\n",
       "</table>\n",
       "</div>"
      ],
      "text/plain": [
       "                 city                 date   fare        ride_id  \\\n",
       "0  Lake Jonathanshire  2019-01-14 10:14:22  13.83  5739410935873   \n",
       "1  South Michelleport  2019-03-04 18:24:09  30.24  2343912425577   \n",
       "2  Port Samanthamouth  2019-02-24 04:29:00  33.44  2005065760003   \n",
       "3          Rodneyfort  2019-02-10 23:22:03  23.44  5149245426178   \n",
       "4          South Jack  2019-03-06 04:28:35  34.58  3908451377344   \n",
       "\n",
       "   driver_count   type  \n",
       "0             5  Urban  \n",
       "1            72  Urban  \n",
       "2            57  Urban  \n",
       "3            34  Urban  \n",
       "4            46  Urban  "
      ]
     },
     "execution_count": 565,
     "metadata": {},
     "output_type": "execute_result"
    }
   ],
   "source": [
    "#Create the Urban city DataFrame\n",
    "\n",
    "urban_cities_df = pyber_data_df[pyber_data_df[\"type\"] ==\"Urban\"]\n",
    "urban_cities_df.head()"
   ]
  },
  {
   "cell_type": "code",
   "execution_count": 566,
   "id": "98dca34b",
   "metadata": {},
   "outputs": [],
   "source": [
    "#Now Create the other two dataframes\n",
    "\n",
    "#Suburban cities\n",
    "suburban_cities_df= pyber_data_df[pyber_data_df[\"type\"] ==\"Suburban\"]\n",
    "\n",
    "#Rural Cities\n",
    "rural_cities_df= pyber_data_df[pyber_data_df[\"type\"] ==\"Rural\"]"
   ]
  },
  {
   "cell_type": "code",
   "execution_count": null,
   "id": "4197f6e8",
   "metadata": {},
   "outputs": [],
   "source": []
  },
  {
   "cell_type": "code",
   "execution_count": 567,
   "id": "c0dce834",
   "metadata": {},
   "outputs": [],
   "source": [
    "#5.3.2 Get the Number of Rides for Each City Type"
   ]
  },
  {
   "cell_type": "code",
   "execution_count": 568,
   "id": "06d40711",
   "metadata": {},
   "outputs": [],
   "source": [
    "#To get the number of rides for each city by each type of city, \n",
    "#we have to create a Series where the index is the name of the city\n",
    "#and the column is the number of rides for that city."
   ]
  },
  {
   "cell_type": "code",
   "execution_count": 569,
   "id": "e86030bc",
   "metadata": {},
   "outputs": [
    {
     "data": {
      "text/plain": [
       "city\n",
       "Amandaburgh        18\n",
       "Barajasview        22\n",
       "Carriemouth        27\n",
       "Christopherfurt    27\n",
       "Deanville          19\n",
       "Name: ride_id, dtype: int64"
      ]
     },
     "execution_count": 569,
     "metadata": {},
     "output_type": "execute_result"
    }
   ],
   "source": [
    "#Create the dataframe for Urban cities\n",
    "\n",
    "urban_ride_count = urban_cities_df.groupby([\"city\"]).count()[\"ride_id\"]\n",
    "urban_ride_count.head()"
   ]
  },
  {
   "cell_type": "code",
   "execution_count": 570,
   "id": "c77f1ef5",
   "metadata": {},
   "outputs": [],
   "source": [
    "# Lets Create the same data frames for Suburban and Rural\n",
    "\n",
    "suburban_ride_count = suburban_cities_df.groupby([\"city\"]).count()[\"ride_id\"]\n",
    "\n",
    "rural_ride_count = rural_cities_df.groupby([\"city\"]).count()[\"ride_id\"]"
   ]
  },
  {
   "cell_type": "code",
   "execution_count": null,
   "id": "d36bc28c",
   "metadata": {},
   "outputs": [],
   "source": []
  },
  {
   "cell_type": "code",
   "execution_count": 571,
   "id": "e209f102",
   "metadata": {},
   "outputs": [],
   "source": [
    "#5.3.3 Get the Avg fare for each city type"
   ]
  },
  {
   "cell_type": "code",
   "execution_count": 572,
   "id": "dd162216",
   "metadata": {},
   "outputs": [],
   "source": [
    "#Using the groupby() function, we can chain the mean() method to get the averages of the fare column."
   ]
  },
  {
   "cell_type": "code",
   "execution_count": 573,
   "id": "747c3250",
   "metadata": {},
   "outputs": [
    {
     "data": {
      "text/plain": [
       "city\n",
       "Amandaburgh        24.641667\n",
       "Barajasview        25.332273\n",
       "Carriemouth        28.314444\n",
       "Christopherfurt    24.501852\n",
       "Deanville          25.842632\n",
       "Name: fare, dtype: float64"
      ]
     },
     "execution_count": 573,
     "metadata": {},
     "output_type": "execute_result"
    }
   ],
   "source": [
    "#Get average fare for each city in the urban cities\n",
    "\n",
    "urban_avg_fare = urban_cities_df.groupby([\"city\"]).mean()[\"fare\"]\n",
    "urban_avg_fare.head()"
   ]
  },
  {
   "cell_type": "code",
   "execution_count": 574,
   "id": "b4ae6525",
   "metadata": {},
   "outputs": [],
   "source": [
    "# Get the average fare for each city in the suburban and rural cities\n",
    "\n",
    "#Suburban\n",
    "suburban_avg_fare = suburban_cities_df.groupby([\"city\"]).mean()[\"fare\"]\n",
    "\n",
    "#Rural\n",
    "rural_avg_fare = rural_cities_df.groupby([\"city\"]).mean()[\"fare\"]"
   ]
  },
  {
   "cell_type": "code",
   "execution_count": null,
   "id": "a0604862",
   "metadata": {},
   "outputs": [],
   "source": []
  },
  {
   "cell_type": "code",
   "execution_count": 575,
   "id": "5562d2ee",
   "metadata": {},
   "outputs": [],
   "source": [
    "#5.3.4 Get the Average Number of Drivers for Each City Type "
   ]
  },
  {
   "cell_type": "code",
   "execution_count": 576,
   "id": "9f159a4d",
   "metadata": {},
   "outputs": [],
   "source": [
    "#To get the average number of drivers for each city in the urban, suburban, and rural cities,\n",
    "#we can use the groupby() functionand get the mean() of the driver_count column"
   ]
  },
  {
   "cell_type": "code",
   "execution_count": 577,
   "id": "f6ca4283",
   "metadata": {},
   "outputs": [
    {
     "data": {
      "text/plain": [
       "city\n",
       "Amandaburgh        12.0\n",
       "Barajasview        26.0\n",
       "Carriemouth        52.0\n",
       "Christopherfurt    41.0\n",
       "Deanville          49.0\n",
       "Name: driver_count, dtype: float64"
      ]
     },
     "execution_count": 577,
     "metadata": {},
     "output_type": "execute_result"
    }
   ],
   "source": [
    "# Get the average number of drivers for each urban city\n",
    "\n",
    "urban_driver_count=urban_cities_df.groupby([\"city\"]).mean()[\"driver_count\"]\n",
    "urban_driver_count.head()"
   ]
  },
  {
   "cell_type": "code",
   "execution_count": 578,
   "id": "e44bad69",
   "metadata": {},
   "outputs": [],
   "source": [
    "#Again Lets Repurpose our code for the other two cities"
   ]
  },
  {
   "cell_type": "code",
   "execution_count": 579,
   "id": "7ab5f269",
   "metadata": {},
   "outputs": [],
   "source": [
    "#Get the average number of driviers for each city \n",
    "\n",
    "#Suburban\n",
    "suburban_driver_count = suburban_cities_df.groupby([\"city\"]).mean()['driver_count']\n",
    "\n",
    "#Rural\n",
    "rural_driver_count = rural_cities_df.groupby([\"city\"]).mean()[\"driver_count\"]"
   ]
  },
  {
   "cell_type": "code",
   "execution_count": null,
   "id": "0173a7f4",
   "metadata": {},
   "outputs": [],
   "source": []
  },
  {
   "cell_type": "code",
   "execution_count": 580,
   "id": "2def909b",
   "metadata": {},
   "outputs": [],
   "source": [
    "#5.3.5 Create Bubble Charts"
   ]
  },
  {
   "cell_type": "code",
   "execution_count": 581,
   "id": "2e25a5a0",
   "metadata": {},
   "outputs": [
    {
     "data": {
      "text/plain": [
       "<matplotlib.legend.Legend at 0x1fa79af4dc8>"
      ]
     },
     "execution_count": 581,
     "metadata": {},
     "output_type": "execute_result"
    },
    {
     "data": {
      "image/png": "[encoded data removed]",
      "text/plain": [
       "<Figure size 432x288 with 1 Axes>"
      ]
     },
     "metadata": {
      "needs_background": "light"
     },
     "output_type": "display_data"
    }
   ],
   "source": [
    "#Create Scatter Plot for Urban Cities\n",
    "#Great now add in annotations\n",
    "\n",
    "plt.scatter(urban_ride_count,urban_avg_fare,\n",
    "            color = \"coral\",\n",
    "            edgecolor = \"black\",\n",
    "            label= \"Urban\",\n",
    "            s =10*urban_driver_count,)\n",
    "\n",
    "#Add Title\n",
    "plt.title(\"PyBer Ride-Sharing Data (2019)\")\n",
    "\n",
    "#Add Labels to x and y axes\n",
    "plt.ylabel(\"Average Fare ($)\")\n",
    "plt.xlabel(\"Total Number of Rides (Per City)\")\n",
    "\n",
    "#Add Grid\n",
    "plt.grid(True)\n",
    "\n",
    "# Add the legend.\n",
    "plt.legend()"
   ]
  },
  {
   "cell_type": "code",
   "execution_count": null,
   "id": "8ec33544",
   "metadata": {},
   "outputs": [],
   "source": []
  },
  {
   "cell_type": "code",
   "execution_count": 582,
   "id": "7bab2c71",
   "metadata": {},
   "outputs": [],
   "source": [
    "#To change the marker color, we add the color= parameter to the scatter() function.\n",
    "#To add a title, x-axis and y-axis labels, and a legend, we use the plt.title(), plt.ylabel(),\n",
    "#plt.xlabel(), and plt.legend() functions, respectively."
   ]
  },
  {
   "cell_type": "code",
   "execution_count": null,
   "id": "2b06fc34",
   "metadata": {},
   "outputs": [],
   "source": []
  },
  {
   "cell_type": "code",
   "execution_count": 583,
   "id": "53d63c60",
   "metadata": {},
   "outputs": [
    {
     "data": {
      "text/plain": [
       "<matplotlib.legend.Legend at 0x1fa77d8bf48>"
      ]
     },
     "execution_count": 583,
     "metadata": {},
     "output_type": "execute_result"
    },
    {
     "data": {
      "image/png": "[encoded data removed]",
      "text/plain": [
       "<Figure size 432x288 with 1 Axes>"
      ]
     },
     "metadata": {
      "needs_background": "light"
     },
     "output_type": "display_data"
    }
   ],
   "source": [
    "# Build the scatter plots for suburban cities.\n",
    "plt.scatter(suburban_ride_count,\n",
    "      suburban_avg_fare,\n",
    "      s=10*suburban_driver_count, c=\"skyblue\",\n",
    "      edgecolor=\"black\", linewidths=1,\n",
    "      alpha=0.8, label=\"Suburban\")\n",
    "\n",
    "\n",
    "\n",
    "#Add title \n",
    "plt.title(\"PyBer Ride-Sharing Data (2019)\")\n",
    "\n",
    "#Add x and y Label\n",
    "plt.ylabel(\"Average Fare ($)\")\n",
    "plt.xlabel(\"Total Number of Rides (Per City)\")\n",
    "\n",
    "#Add Grid\n",
    "plt.grid(True)\n",
    "\n",
    "# Add the legend.\n",
    "plt.legend()"
   ]
  },
  {
   "cell_type": "code",
   "execution_count": null,
   "id": "642bbd53",
   "metadata": {},
   "outputs": [],
   "source": []
  },
  {
   "cell_type": "code",
   "execution_count": 584,
   "id": "394a30ec",
   "metadata": {},
   "outputs": [
    {
     "data": {
      "text/plain": [
       "<function matplotlib.pyplot.show(close=None, block=None)>"
      ]
     },
     "execution_count": 584,
     "metadata": {},
     "output_type": "execute_result"
    },
    {
     "data": {
      "image/png": "[encoded data removed]",
      "text/plain": [
       "<Figure size 432x288 with 1 Axes>"
      ]
     },
     "metadata": {
      "needs_background": "light"
     },
     "output_type": "display_data"
    }
   ],
   "source": [
    "#Build the Rural Cites Bubble Chart\n",
    "\n",
    "\n",
    "\n",
    "plt.scatter(rural_ride_count,rural_avg_fare,\n",
    "            \n",
    "            s = 10*rural_driver_count, alpha= 0.8,\n",
    "            color = \"gold\", edgecolor = \"black\",\n",
    "            linewidth = 1, label = \"Rural\")\n",
    "#Add title\n",
    "plt.title('PyBer Ride-Sharing Data (2019)')\n",
    "\n",
    "#Add X/Y labels\n",
    "plt.ylabel(\"Average Fare($)\")\n",
    "\n",
    "plt.xlabel(\"TotalNumberofRides(Per City)\")\n",
    "\n",
    "\n",
    "#Add Grid\n",
    "plt.grid(True)\n",
    "\n",
    "# Add the legend.\n",
    "plt.legend()\n",
    "plt.show"
   ]
  },
  {
   "cell_type": "code",
   "execution_count": null,
   "id": "ea2b777c",
   "metadata": {},
   "outputs": [],
   "source": []
  },
  {
   "cell_type": "code",
   "execution_count": 585,
   "id": "a8701834",
   "metadata": {},
   "outputs": [],
   "source": [
    "#5.3.6 Create a Bubble Chart For all Cities\n"
   ]
  },
  {
   "cell_type": "code",
   "execution_count": null,
   "id": "fb752057",
   "metadata": {},
   "outputs": [],
   "source": []
  },
  {
   "cell_type": "code",
   "execution_count": 586,
   "id": "73410b1a",
   "metadata": {},
   "outputs": [],
   "source": [
    "#To create a bubble chart that showcases all the different city types in one chart,\n",
    "#we'll combine our three scatter plot code blocks in one Jupyter Notebook cell."
   ]
  },
  {
   "cell_type": "code",
   "execution_count": 587,
   "id": "6ac6aa9a",
   "metadata": {},
   "outputs": [
    {
     "data": {
      "image/png": "[encoded data removed]",
      "text/plain": [
       "<Figure size 720x432 with 1 Axes>"
      ]
     },
     "metadata": {
      "needs_background": "light"
     },
     "output_type": "display_data"
    }
   ],
   "source": [
    "#Create the Bubble Chart\n",
    "\n",
    "plt.subplots(figsize=(10, 6))\n",
    "\n",
    "plt.scatter(urban_ride_count,\n",
    "            urban_avg_fare,            \n",
    "            color = \"coral\",\n",
    "            edgecolor = \"black\",\n",
    "            label= \"Urban\",\n",
    "            s =10*urban_driver_count,            \n",
    "            alpha=0.8,\n",
    "            linewidth =1,)         \n",
    "       \n",
    "plt.scatter(suburban_ride_count,\n",
    "            suburban_avg_fare,\n",
    "            s=10*suburban_driver_count,\n",
    "            color=\"skyblue\",\n",
    "            edgecolor=\"black\",\n",
    "            linewidths=1,         \n",
    "            alpha=0.8,\n",
    "            label=\"Suburban\")\n",
    "\n",
    "\n",
    "plt.scatter(rural_ride_count,\n",
    "            rural_avg_fare,\n",
    "            label = \"Rural\",\n",
    "            s = 10*rural_driver_count,\n",
    "            alpha= 0.8,\n",
    "            color = \"gold\",\n",
    "            edgecolor = \"black\",\n",
    "            linewidth = 1)\n",
    "\n",
    "# Incorporate the other graph properties\n",
    "plt.title(\"PyBer Ride-Sharing Data (2019)\", fontsize=20)\n",
    "plt.ylabel(\"Average Fare ($)\", fontsize=12)\n",
    "plt.xlabel(\"Total Number of Rides (Per City)\", fontsize=12)\n",
    "plt.grid(True)\n",
    "\n",
    "# Add the legend.\n",
    "\n",
    "# Create a legend\n",
    "lgnd = plt.legend(fontsize=\"12\", mode=\"Expanded\",\n",
    "         scatterpoints=1, loc= \"best\", title=\"City Types\")\n",
    "\n",
    "lgnd.legendHandles[0]._sizes = [75]\n",
    "\n",
    "lgnd.legendHandles[1]._sizes = [75]\n",
    "\n",
    "lgnd.legendHandles[2]._sizes = [75]\n",
    "\n",
    "lgnd.get_title().set_fontsize(12)\n",
    "\n",
    "# Incorporate a text label about circle size.\n",
    "\n",
    "plt.text(41, 35 , \"Note: Circle size correlates\",fontsize= \"12\")\n",
    "plt.text(41, 33 , \" with driver count per city.\", fontsize=\"12\")\n",
    "\n",
    "\n",
    "\n",
    "#Show Plot\n",
    "plt.show\n",
    "\n",
    "# Save the figure.\n",
    "plt.savefig(\"analysis/Fig2.png\")"
   ]
  },
  {
   "cell_type": "code",
   "execution_count": null,
   "id": "7aaa933d",
   "metadata": {},
   "outputs": [],
   "source": []
  },
  {
   "cell_type": "code",
   "execution_count": 588,
   "id": "9c7eacac",
   "metadata": {},
   "outputs": [],
   "source": [
    "#5.4.1 Summary Statistics for Number of Rides by City Type"
   ]
  },
  {
   "cell_type": "code",
   "execution_count": 589,
   "id": "7f5f028b",
   "metadata": {},
   "outputs": [],
   "source": [
    "#Let's use the describe() function on the urban, suburban, and rural DataFrames."
   ]
  },
  {
   "cell_type": "code",
   "execution_count": 590,
   "id": "520d5851",
   "metadata": {},
   "outputs": [
    {
     "data": {
      "text/html": [
       "<div>\n",
       "<style scoped>\n",
       "    .dataframe tbody tr th:only-of-type {\n",
       "        vertical-align: middle;\n",
       "    }\n",
       "\n",
       "    .dataframe tbody tr th {\n",
       "        vertical-align: top;\n",
       "    }\n",
       "\n",
       "    .dataframe thead th {\n",
       "        text-align: right;\n",
       "    }\n",
       "</style>\n",
       "<table border=\"1\" class=\"dataframe\">\n",
       "  <thead>\n",
       "    <tr style=\"text-align: right;\">\n",
       "      <th></th>\n",
       "      <th>fare</th>\n",
       "      <th>ride_id</th>\n",
       "      <th>driver_count</th>\n",
       "    </tr>\n",
       "  </thead>\n",
       "  <tbody>\n",
       "    <tr>\n",
       "      <th>count</th>\n",
       "      <td>1625.000000</td>\n",
       "      <td>1.625000e+03</td>\n",
       "      <td>1625.000000</td>\n",
       "    </tr>\n",
       "    <tr>\n",
       "      <th>mean</th>\n",
       "      <td>24.525772</td>\n",
       "      <td>4.873485e+12</td>\n",
       "      <td>36.678154</td>\n",
       "    </tr>\n",
       "    <tr>\n",
       "      <th>std</th>\n",
       "      <td>11.738649</td>\n",
       "      <td>2.907440e+12</td>\n",
       "      <td>20.075545</td>\n",
       "    </tr>\n",
       "    <tr>\n",
       "      <th>min</th>\n",
       "      <td>4.050000</td>\n",
       "      <td>1.458810e+10</td>\n",
       "      <td>3.000000</td>\n",
       "    </tr>\n",
       "    <tr>\n",
       "      <th>25%</th>\n",
       "      <td>14.550000</td>\n",
       "      <td>2.400244e+12</td>\n",
       "      <td>22.000000</td>\n",
       "    </tr>\n",
       "    <tr>\n",
       "      <th>50%</th>\n",
       "      <td>24.640000</td>\n",
       "      <td>4.711188e+12</td>\n",
       "      <td>37.000000</td>\n",
       "    </tr>\n",
       "    <tr>\n",
       "      <th>75%</th>\n",
       "      <td>34.580000</td>\n",
       "      <td>7.451579e+12</td>\n",
       "      <td>52.000000</td>\n",
       "    </tr>\n",
       "    <tr>\n",
       "      <th>max</th>\n",
       "      <td>44.970000</td>\n",
       "      <td>9.991538e+12</td>\n",
       "      <td>73.000000</td>\n",
       "    </tr>\n",
       "  </tbody>\n",
       "</table>\n",
       "</div>"
      ],
      "text/plain": [
       "              fare       ride_id  driver_count\n",
       "count  1625.000000  1.625000e+03   1625.000000\n",
       "mean     24.525772  4.873485e+12     36.678154\n",
       "std      11.738649  2.907440e+12     20.075545\n",
       "min       4.050000  1.458810e+10      3.000000\n",
       "25%      14.550000  2.400244e+12     22.000000\n",
       "50%      24.640000  4.711188e+12     37.000000\n",
       "75%      34.580000  7.451579e+12     52.000000\n",
       "max      44.970000  9.991538e+12     73.000000"
      ]
     },
     "execution_count": 590,
     "metadata": {},
     "output_type": "execute_result"
    }
   ],
   "source": [
    "# Get the summary statistics\n",
    "\n",
    "urban_cities_df.describe()"
   ]
  },
  {
   "cell_type": "code",
   "execution_count": 591,
   "id": "882743cc",
   "metadata": {},
   "outputs": [],
   "source": [
    "#5.4.1 Skill Drill  Do the same for Suburban and Rural"
   ]
  },
  {
   "cell_type": "code",
   "execution_count": 592,
   "id": "2b85182c",
   "metadata": {},
   "outputs": [
    {
     "data": {
      "text/html": [
       "<div>\n",
       "<style scoped>\n",
       "    .dataframe tbody tr th:only-of-type {\n",
       "        vertical-align: middle;\n",
       "    }\n",
       "\n",
       "    .dataframe tbody tr th {\n",
       "        vertical-align: top;\n",
       "    }\n",
       "\n",
       "    .dataframe thead th {\n",
       "        text-align: right;\n",
       "    }\n",
       "</style>\n",
       "<table border=\"1\" class=\"dataframe\">\n",
       "  <thead>\n",
       "    <tr style=\"text-align: right;\">\n",
       "      <th></th>\n",
       "      <th>fare</th>\n",
       "      <th>ride_id</th>\n",
       "      <th>driver_count</th>\n",
       "    </tr>\n",
       "  </thead>\n",
       "  <tbody>\n",
       "    <tr>\n",
       "      <th>count</th>\n",
       "      <td>625.000000</td>\n",
       "      <td>6.250000e+02</td>\n",
       "      <td>625.000000</td>\n",
       "    </tr>\n",
       "    <tr>\n",
       "      <th>mean</th>\n",
       "      <td>30.970128</td>\n",
       "      <td>4.971015e+12</td>\n",
       "      <td>13.712000</td>\n",
       "    </tr>\n",
       "    <tr>\n",
       "      <th>std</th>\n",
       "      <td>10.677508</td>\n",
       "      <td>2.912410e+12</td>\n",
       "      <td>8.042372</td>\n",
       "    </tr>\n",
       "    <tr>\n",
       "      <th>min</th>\n",
       "      <td>12.050000</td>\n",
       "      <td>3.218337e+08</td>\n",
       "      <td>1.000000</td>\n",
       "    </tr>\n",
       "    <tr>\n",
       "      <th>25%</th>\n",
       "      <td>21.970000</td>\n",
       "      <td>2.364253e+12</td>\n",
       "      <td>5.000000</td>\n",
       "    </tr>\n",
       "    <tr>\n",
       "      <th>50%</th>\n",
       "      <td>30.750000</td>\n",
       "      <td>5.053221e+12</td>\n",
       "      <td>16.000000</td>\n",
       "    </tr>\n",
       "    <tr>\n",
       "      <th>75%</th>\n",
       "      <td>39.830000</td>\n",
       "      <td>7.551674e+12</td>\n",
       "      <td>21.000000</td>\n",
       "    </tr>\n",
       "    <tr>\n",
       "      <th>max</th>\n",
       "      <td>49.960000</td>\n",
       "      <td>9.917744e+12</td>\n",
       "      <td>25.000000</td>\n",
       "    </tr>\n",
       "  </tbody>\n",
       "</table>\n",
       "</div>"
      ],
      "text/plain": [
       "             fare       ride_id  driver_count\n",
       "count  625.000000  6.250000e+02    625.000000\n",
       "mean    30.970128  4.971015e+12     13.712000\n",
       "std     10.677508  2.912410e+12      8.042372\n",
       "min     12.050000  3.218337e+08      1.000000\n",
       "25%     21.970000  2.364253e+12      5.000000\n",
       "50%     30.750000  5.053221e+12     16.000000\n",
       "75%     39.830000  7.551674e+12     21.000000\n",
       "max     49.960000  9.917744e+12     25.000000"
      ]
     },
     "execution_count": 592,
     "metadata": {},
     "output_type": "execute_result"
    }
   ],
   "source": [
    "#suburban Summary\n",
    "suburban_cities_df.describe()"
   ]
  },
  {
   "cell_type": "code",
   "execution_count": 593,
   "id": "5f870d40",
   "metadata": {},
   "outputs": [
    {
     "data": {
      "text/html": [
       "<div>\n",
       "<style scoped>\n",
       "    .dataframe tbody tr th:only-of-type {\n",
       "        vertical-align: middle;\n",
       "    }\n",
       "\n",
       "    .dataframe tbody tr th {\n",
       "        vertical-align: top;\n",
       "    }\n",
       "\n",
       "    .dataframe thead th {\n",
       "        text-align: right;\n",
       "    }\n",
       "</style>\n",
       "<table border=\"1\" class=\"dataframe\">\n",
       "  <thead>\n",
       "    <tr style=\"text-align: right;\">\n",
       "      <th></th>\n",
       "      <th>fare</th>\n",
       "      <th>ride_id</th>\n",
       "      <th>driver_count</th>\n",
       "    </tr>\n",
       "  </thead>\n",
       "  <tbody>\n",
       "    <tr>\n",
       "      <th>count</th>\n",
       "      <td>125.000000</td>\n",
       "      <td>1.250000e+02</td>\n",
       "      <td>125.000000</td>\n",
       "    </tr>\n",
       "    <tr>\n",
       "      <th>mean</th>\n",
       "      <td>34.623440</td>\n",
       "      <td>4.647746e+12</td>\n",
       "      <td>4.296000</td>\n",
       "    </tr>\n",
       "    <tr>\n",
       "      <th>std</th>\n",
       "      <td>14.558046</td>\n",
       "      <td>2.887834e+12</td>\n",
       "      <td>2.691156</td>\n",
       "    </tr>\n",
       "    <tr>\n",
       "      <th>min</th>\n",
       "      <td>10.110000</td>\n",
       "      <td>2.684873e+10</td>\n",
       "      <td>1.000000</td>\n",
       "    </tr>\n",
       "    <tr>\n",
       "      <th>25%</th>\n",
       "      <td>19.900000</td>\n",
       "      <td>2.275364e+12</td>\n",
       "      <td>1.000000</td>\n",
       "    </tr>\n",
       "    <tr>\n",
       "      <th>50%</th>\n",
       "      <td>37.050000</td>\n",
       "      <td>4.023962e+12</td>\n",
       "      <td>4.000000</td>\n",
       "    </tr>\n",
       "    <tr>\n",
       "      <th>75%</th>\n",
       "      <td>47.070000</td>\n",
       "      <td>7.118047e+12</td>\n",
       "      <td>7.000000</td>\n",
       "    </tr>\n",
       "    <tr>\n",
       "      <th>max</th>\n",
       "      <td>58.550000</td>\n",
       "      <td>9.990581e+12</td>\n",
       "      <td>9.000000</td>\n",
       "    </tr>\n",
       "  </tbody>\n",
       "</table>\n",
       "</div>"
      ],
      "text/plain": [
       "             fare       ride_id  driver_count\n",
       "count  125.000000  1.250000e+02    125.000000\n",
       "mean    34.623440  4.647746e+12      4.296000\n",
       "std     14.558046  2.887834e+12      2.691156\n",
       "min     10.110000  2.684873e+10      1.000000\n",
       "25%     19.900000  2.275364e+12      1.000000\n",
       "50%     37.050000  4.023962e+12      4.000000\n",
       "75%     47.070000  7.118047e+12      7.000000\n",
       "max     58.550000  9.990581e+12      9.000000"
      ]
     },
     "execution_count": 593,
     "metadata": {},
     "output_type": "execute_result"
    }
   ],
   "source": [
    "#Rural Summary\n",
    "rural_cities_df.describe()"
   ]
  },
  {
   "cell_type": "code",
   "execution_count": null,
   "id": "3228dcd4",
   "metadata": {},
   "outputs": [],
   "source": []
  },
  {
   "cell_type": "code",
   "execution_count": 594,
   "id": "ec23289a",
   "metadata": {},
   "outputs": [],
   "source": [
    "#Now let's calculate the summary statistics of the ride count for each city type. "
   ]
  },
  {
   "cell_type": "code",
   "execution_count": 595,
   "id": "f82c5621",
   "metadata": {},
   "outputs": [
    {
     "data": {
      "text/plain": [
       "count    66.000000\n",
       "mean     24.621212\n",
       "std       5.408726\n",
       "min      12.000000\n",
       "25%      21.000000\n",
       "50%      24.000000\n",
       "75%      28.000000\n",
       "max      39.000000\n",
       "Name: ride_id, dtype: float64"
      ]
     },
     "execution_count": 595,
     "metadata": {},
     "output_type": "execute_result"
    }
   ],
   "source": [
    "# Urban ride count summary  statistics\n",
    "\n",
    "urban_ride_count.describe()"
   ]
  },
  {
   "cell_type": "code",
   "execution_count": 596,
   "id": "88896c0b",
   "metadata": {},
   "outputs": [
    {
     "data": {
      "text/plain": [
       "count    36.000000\n",
       "mean     17.361111\n",
       "std       4.323707\n",
       "min       9.000000\n",
       "25%      14.000000\n",
       "50%      17.000000\n",
       "75%      19.250000\n",
       "max      27.000000\n",
       "Name: ride_id, dtype: float64"
      ]
     },
     "execution_count": 596,
     "metadata": {},
     "output_type": "execute_result"
    }
   ],
   "source": [
    "#Suburban ride count summary statistics\n",
    "\n",
    "suburban_ride_count.describe()"
   ]
  },
  {
   "cell_type": "code",
   "execution_count": 597,
   "id": "8ae381c1",
   "metadata": {},
   "outputs": [],
   "source": [
    "#Rural ride count summary statistics"
   ]
  },
  {
   "cell_type": "code",
   "execution_count": 598,
   "id": "4c646a25",
   "metadata": {},
   "outputs": [
    {
     "data": {
      "text/plain": [
       "count    18.000000\n",
       "mean      6.944444\n",
       "std       2.508157\n",
       "min       3.000000\n",
       "25%       5.250000\n",
       "50%       6.000000\n",
       "75%       8.750000\n",
       "max      12.000000\n",
       "Name: ride_id, dtype: float64"
      ]
     },
     "execution_count": 598,
     "metadata": {},
     "output_type": "execute_result"
    }
   ],
   "source": [
    "rural_ride_count.describe()"
   ]
  },
  {
   "cell_type": "code",
   "execution_count": null,
   "id": "cc4d040f",
   "metadata": {},
   "outputs": [],
   "source": []
  },
  {
   "cell_type": "code",
   "execution_count": 599,
   "id": "4fa24847",
   "metadata": {},
   "outputs": [],
   "source": [
    "# Pandas mean() median() mode() Method"
   ]
  },
  {
   "cell_type": "code",
   "execution_count": 600,
   "id": "b07908f5",
   "metadata": {},
   "outputs": [
    {
     "data": {
      "text/plain": [
       "(24.62, 17.36, 6.94)"
      ]
     },
     "execution_count": 600,
     "metadata": {},
     "output_type": "execute_result"
    }
   ],
   "source": [
    "#Calculate the mean of the ride count for each city type\n",
    "\n",
    "round(urban_ride_count.mean(),2) , round(suburban_ride_count.mean(),2) , round(rural_ride_count.mean(),2)"
   ]
  },
  {
   "cell_type": "code",
   "execution_count": null,
   "id": "ca378023",
   "metadata": {},
   "outputs": [],
   "source": []
  },
  {
   "cell_type": "code",
   "execution_count": 601,
   "id": "c7d31d48",
   "metadata": {},
   "outputs": [
    {
     "data": {
      "text/plain": [
       "(24.0, 17.0, 6.0)"
      ]
     },
     "execution_count": 601,
     "metadata": {},
     "output_type": "execute_result"
    }
   ],
   "source": [
    "#Calculate the median of the ride count for each city type\n",
    "\n",
    "round(urban_ride_count.median(),2) , round(suburban_ride_count.median(),2) , round(rural_ride_count.median(),2)"
   ]
  },
  {
   "cell_type": "code",
   "execution_count": null,
   "id": "617d10ea",
   "metadata": {},
   "outputs": [],
   "source": []
  },
  {
   "cell_type": "code",
   "execution_count": 602,
   "id": "a94aae73",
   "metadata": {},
   "outputs": [],
   "source": [
    "#Similarly we can use mode() of the ride count for each city"
   ]
  },
  {
   "cell_type": "code",
   "execution_count": 603,
   "id": "2c3c74af",
   "metadata": {},
   "outputs": [
    {
     "data": {
      "text/plain": [
       "0    22\n",
       "1    25\n",
       "dtype: int64"
      ]
     },
     "execution_count": 603,
     "metadata": {},
     "output_type": "execute_result"
    }
   ],
   "source": [
    "# Urban ride count\n",
    "\n",
    "urban_ride_count.mode()"
   ]
  },
  {
   "cell_type": "code",
   "execution_count": 604,
   "id": "e7b3a82d",
   "metadata": {},
   "outputs": [
    {
     "data": {
      "text/plain": [
       "0    17\n",
       "dtype: int64"
      ]
     },
     "execution_count": 604,
     "metadata": {},
     "output_type": "execute_result"
    }
   ],
   "source": [
    "#Suburban ride count mode()\n",
    "\n",
    "suburban_ride_count.mode()"
   ]
  },
  {
   "cell_type": "code",
   "execution_count": 605,
   "id": "29b16f9b",
   "metadata": {},
   "outputs": [
    {
     "data": {
      "text/plain": [
       "0    6\n",
       "dtype: int64"
      ]
     },
     "execution_count": 605,
     "metadata": {},
     "output_type": "execute_result"
    }
   ],
   "source": [
    "#Rural ride count mode()\n",
    "\n",
    "rural_ride_count.mode()"
   ]
  },
  {
   "cell_type": "code",
   "execution_count": null,
   "id": "d4d73e8b",
   "metadata": {},
   "outputs": [],
   "source": []
  },
  {
   "cell_type": "code",
   "execution_count": 606,
   "id": "20d8cb02",
   "metadata": {},
   "outputs": [],
   "source": [
    "#NumPy mean() median() mode() Functions and SciPy mode() Function"
   ]
  },
  {
   "cell_type": "code",
   "execution_count": 607,
   "id": "7dd8cc4d",
   "metadata": {},
   "outputs": [],
   "source": [
    "# Import New dependencies\n",
    "#Numpy and the stats module from SciPy\n",
    "\n",
    "import numpy as np\n",
    "import scipy.stats as sts "
   ]
  },
  {
   "cell_type": "code",
   "execution_count": 608,
   "id": "afc383ee",
   "metadata": {},
   "outputs": [
    {
     "name": "stdout",
     "output_type": "stream",
     "text": [
      "The mean for the ride counts for urban triops is 24.62.\n",
      "The median for the ride counts for urban trips is24.0.\n",
      "The mode for the ride counts for urban trips isModeResult(mode=array([22], dtype=int64), count=array([7])).\n"
     ]
    }
   ],
   "source": [
    "# Calculate the measures of central tendency for Urban ride count\n",
    "\n",
    "mean_urban_ride_count = np.mean(urban_ride_count)\n",
    "print(f\"The mean for the ride counts for urban triops is {mean_urban_ride_count:.2f}.\")\n",
    "\n",
    "median_urban_ride_count = np.median(urban_ride_count)\n",
    "print(f\"The median for the ride counts for urban trips is{median_urban_ride_count}.\")\n",
    "\n",
    "mode_urban_ride_count = sts.mode(urban_ride_count)\n",
    "print(f\"The mode for the ride counts for urban trips is{mode_urban_ride_count}.\")\n",
    "\n"
   ]
  },
  {
   "cell_type": "code",
   "execution_count": null,
   "id": "9c2b71f6",
   "metadata": {},
   "outputs": [],
   "source": []
  },
  {
   "cell_type": "code",
   "execution_count": 609,
   "id": "55a1e731",
   "metadata": {},
   "outputs": [],
   "source": [
    "#With SciPy statistics, the mode result that's returned is the mode that appears the most frequently.\n",
    "#ModeResult returned two attributes:\n",
    "#The first attribute, mode, is 22.\n",
    "#The second attribute, count, is the number of times it occurs in the dataset, in this case, 7."
   ]
  },
  {
   "cell_type": "code",
   "execution_count": null,
   "id": "b2981a94",
   "metadata": {},
   "outputs": [],
   "source": []
  },
  {
   "cell_type": "code",
   "execution_count": 610,
   "id": "ebf925ff",
   "metadata": {},
   "outputs": [
    {
     "name": "stdout",
     "output_type": "stream",
     "text": [
      "The mean for the ride counts for urban triops is 17.36.\n",
      "The median for the ride counts for urban trips is17.0.\n",
      "The mode for the ride counts for urban trips isModeResult(mode=array([17], dtype=int64), count=array([7])).\n"
     ]
    }
   ],
   "source": [
    "# Calculate the measures of central tendency for Suburban ride count\n",
    "\n",
    "mean_suburban_ride_count = np.mean(suburban_ride_count)\n",
    "print(f\"The mean for the ride counts for urban triops is {mean_suburban_ride_count:.2f}.\")\n",
    "\n",
    "median_suburban_ride_count = np.median(suburban_ride_count)\n",
    "print(f\"The median for the ride counts for urban trips is{median_suburban_ride_count}.\")\n",
    "\n",
    "mode_suburban_ride_count = sts.mode(suburban_ride_count)\n",
    "print(f\"The mode for the ride counts for urban trips is{mode_suburban_ride_count}.\")"
   ]
  },
  {
   "cell_type": "code",
   "execution_count": null,
   "id": "d785af71",
   "metadata": {},
   "outputs": [],
   "source": []
  },
  {
   "cell_type": "code",
   "execution_count": 611,
   "id": "9501f209",
   "metadata": {},
   "outputs": [
    {
     "name": "stdout",
     "output_type": "stream",
     "text": [
      "The mean for the ride counts for rural trips is6.94\n",
      "The median for the ride count for rural trips is6.0\n",
      "The mode for the ride count for rural trips isModeResult(mode=array([6], dtype=int64), count=array([5]))\n"
     ]
    }
   ],
   "source": [
    "# Calculate the measures of central tendency for Rural Ride Couns\n",
    "\n",
    "mean_rural_ride_count = np.mean(rural_ride_count)\n",
    "print(f\"The mean for the ride counts for rural trips is{mean_rural_ride_count:.2f}\")\n",
    "\n",
    "median_rural_ride_count = np.median(rural_ride_count)\n",
    "print(f\"The median for the ride count for rural trips is{median_rural_ride_count}\")\n",
    "\n",
    "mode_rural_ride_count = sts.mode(rural_ride_count)\n",
    "print(f\"The mode for the ride count for rural trips is{mode_rural_ride_count}\")\n",
    "      "
   ]
  },
  {
   "cell_type": "code",
   "execution_count": null,
   "id": "5780a837",
   "metadata": {},
   "outputs": [],
   "source": []
  },
  {
   "cell_type": "code",
   "execution_count": 612,
   "id": "3e5ae3c9",
   "metadata": {},
   "outputs": [],
   "source": [
    "#5.4.2 Summary statisitics for the Fare by city Type"
   ]
  },
  {
   "cell_type": "code",
   "execution_count": 613,
   "id": "990b3763",
   "metadata": {},
   "outputs": [
    {
     "data": {
      "text/plain": [
       "0    13.83\n",
       "1    30.24\n",
       "2    33.44\n",
       "3    23.44\n",
       "4    34.58\n",
       "Name: fare, dtype: float64"
      ]
     },
     "execution_count": 613,
     "metadata": {},
     "output_type": "execute_result"
    }
   ],
   "source": [
    "#Create the Series to to get the all the fares for the Urban Cities\n",
    "\n",
    "urban_fares= urban_cities_df[\"fare\"]\n",
    "urban_fares.head()"
   ]
  },
  {
   "cell_type": "code",
   "execution_count": 614,
   "id": "e8ae7f0f",
   "metadata": {},
   "outputs": [
    {
     "name": "stdout",
     "output_type": "stream",
     "text": [
      "The mean price of fares for urban cities is 24.53.\n",
      "The median price of fares for urban cities is 24.64.\n",
      "The mode price for fares in urban cities is ModeResult(mode=array([22.86]), count=array([5])).\n"
     ]
    }
   ],
   "source": [
    "#Now that the fares are in a Series\n",
    "#We can find the measures of central tendency of Urban Fares\n",
    "\n",
    "mean_urban_fares= np.mean(urban_fares)\n",
    "print(f\"The mean price of fares for urban cities is {mean_urban_fares:.2f}.\")\n",
    "\n",
    "median_urban_fares = np.median(urban_fares)\n",
    "print(f\"The median price of fares for urban cities is {median_urban_fares:.2f}.\")\n",
    "\n",
    "mode_urban_fares = sts.mode(urban_fares)\n",
    "print(f\"The mode price for fares in urban cities is {mode_urban_fares}.\")\n",
    "\n"
   ]
  },
  {
   "cell_type": "code",
   "execution_count": 615,
   "id": "4baba09d",
   "metadata": {},
   "outputs": [],
   "source": [
    "#Lets do the same for fare price in both Suburban and Rural Cities"
   ]
  },
  {
   "cell_type": "code",
   "execution_count": 616,
   "id": "0925c8e3",
   "metadata": {},
   "outputs": [],
   "source": [
    "#Create the Series for Suburban Fare\n",
    "\n",
    "suburban_fares = suburban_cities_df[\"fare\"]\n",
    "\n",
    "#Create the Series for Rural Fare\n",
    "\n",
    "rural_fares = rural_cities_df[\"fare\"]"
   ]
  },
  {
   "cell_type": "code",
   "execution_count": 617,
   "id": "3dd4a690",
   "metadata": {},
   "outputs": [],
   "source": [
    "#Now find the measures of central tendency for each"
   ]
  },
  {
   "cell_type": "code",
   "execution_count": 618,
   "id": "0e2672de",
   "metadata": {},
   "outputs": [
    {
     "name": "stdout",
     "output_type": "stream",
     "text": [
      "The mean price for suburban cities is 30.97.\n",
      "The median price for suburban cities is 30.75.\n",
      "The mode price for suburban cities is ModeResult(mode=array([17.99]), count=array([3])).\n"
     ]
    }
   ],
   "source": [
    "# Central Tendency Suburban Cities fare price\n",
    "\n",
    "mean_suburban_fares = np.mean(suburban_fares)\n",
    "print(f\"The mean price for suburban cities is {mean_suburban_fares:.2f}.\")\n",
    "\n",
    "median_suburban_fares =np.median(suburban_fares)\n",
    "print(f\"The median price for suburban cities is {median_suburban_fares:.2f}.\")\n",
    "\n",
    "mode_suburban_fares = sts.mode(suburban_fares)\n",
    "print(f\"The mode price for suburban cities is {mode_suburban_fares}.\")"
   ]
  },
  {
   "cell_type": "code",
   "execution_count": 619,
   "id": "4933a1d9",
   "metadata": {},
   "outputs": [
    {
     "name": "stdout",
     "output_type": "stream",
     "text": [
      "The mean price for rural cities is 34.62.\n",
      "The median price for rural cities is 37.05.\n",
      "The mode price for rural cities is ModeResult(mode=array([37.05]), count=array([2])).\n"
     ]
    }
   ],
   "source": [
    "# Central Tendency Rural Cities fare price\n",
    "\n",
    "mean_rural_fares = np.mean(rural_fares)\n",
    "print(f\"The mean price for rural cities is {mean_rural_fares:.2f}.\")\n",
    "\n",
    "median_rural_fares =np.median(rural_fares)\n",
    "print(f\"The median price for rural cities is {median_rural_fares:.2f}.\")\n",
    "\n",
    "mode_rural_fares = sts.mode(rural_fares)\n",
    "print(f\"The mode price for rural cities is {mode_rural_fares}.\")"
   ]
  },
  {
   "cell_type": "code",
   "execution_count": null,
   "id": "dd680cee",
   "metadata": {},
   "outputs": [],
   "source": []
  },
  {
   "cell_type": "code",
   "execution_count": 620,
   "id": "5182db63",
   "metadata": {},
   "outputs": [],
   "source": [
    "#5.4.3 Summary Statistics for the Number of Drivers by City Type"
   ]
  },
  {
   "cell_type": "code",
   "execution_count": 621,
   "id": "58105327",
   "metadata": {},
   "outputs": [],
   "source": [
    "#Create  Series for each City Type \n",
    "\n",
    "#Urban Drivers\n",
    "urban_drivers = urban_cities_df[\"driver_count\"]\n",
    "\n",
    "#Suburban Drivers\n",
    "suburban_drivers = suburban_cities_df[\"driver_count\"]\n",
    "\n",
    "#Rural Drivers \n",
    "rural_drivers = rural_cities_df[\"driver_count\"]"
   ]
  },
  {
   "cell_type": "code",
   "execution_count": 622,
   "id": "faf0fac5",
   "metadata": {},
   "outputs": [],
   "source": [
    "#Now Run the Measures of Central Tendency for each Type of city"
   ]
  },
  {
   "cell_type": "code",
   "execution_count": 623,
   "id": "ed54e6e7",
   "metadata": {},
   "outputs": [],
   "source": [
    "#Create Template to Streamline"
   ]
  },
  {
   "cell_type": "code",
   "execution_count": 624,
   "id": "a8a4fe0c",
   "metadata": {},
   "outputs": [],
   "source": [
    "# Central Tendency \"\" Cities and number of drivers for each city\n",
    "\n",
    "#mean__fares = np.mean( _drivers)\n",
    "#print(f\"The mean number of drivers for  cities is {mean__drivers:.2f}.\")\n",
    "\n",
    "#median__fares =np.median( _drivers)\n",
    "#print(f\"The median number of drivers for  cities is {median__drivers}.\")\n",
    "\n",
    "#mode__fares = sts.mode(_drivers)\n",
    "#print(f\"The median number of drivers for  cities is {mode__drivers}.\")"
   ]
  },
  {
   "cell_type": "code",
   "execution_count": null,
   "id": "90b3ea8e",
   "metadata": {},
   "outputs": [],
   "source": []
  },
  {
   "cell_type": "code",
   "execution_count": 625,
   "id": "3c8e5390",
   "metadata": {},
   "outputs": [
    {
     "name": "stdout",
     "output_type": "stream",
     "text": [
      "The mean number of drivers for urban cities is 36.68.\n",
      "The median number of drivers for urban cities is 37.0.\n",
      "The median number of drivers for urban cities is ModeResult(mode=array([39], dtype=int64), count=array([86])).\n"
     ]
    }
   ],
   "source": [
    "# Central Tendency Urban Cities and number of drivers for each city\n",
    "\n",
    "mean_urban_drivers = np.mean(urban_drivers)\n",
    "print(f\"The mean number of drivers for urban cities is {mean_urban_drivers:.2f}.\")\n",
    "\n",
    "median_urban_drivers = np.median(urban_drivers)\n",
    "print(f\"The median number of drivers for urban cities is {median_urban_drivers}.\")\n",
    "\n",
    "mode_urban_drivers = sts.mode(urban_drivers)\n",
    "print(f\"The median number of drivers for urban cities is {mode_urban_drivers}.\")"
   ]
  },
  {
   "cell_type": "code",
   "execution_count": null,
   "id": "68f42a67",
   "metadata": {},
   "outputs": [],
   "source": []
  },
  {
   "cell_type": "code",
   "execution_count": 626,
   "id": "86b0e031",
   "metadata": {},
   "outputs": [
    {
     "name": "stdout",
     "output_type": "stream",
     "text": [
      "The mean number of drivers for Suburban cities is 13.71.\n",
      "The median number of drivers for Suburban cities is 16.0.\n",
      "The median number of drivers for Suburban cities is ModeResult(mode=array([20], dtype=int64), count=array([79])).\n"
     ]
    }
   ],
   "source": [
    "# Central Tendency Suburban Cities and number of drivers for each city\n",
    "\n",
    "mean_suburban_drivers = np.mean(suburban_drivers)\n",
    "print(f\"The mean number of drivers for Suburban cities is {mean_suburban_drivers:.2f}.\")\n",
    "\n",
    "median_suburban_drivers =np.median(suburban_drivers)\n",
    "print(f\"The median number of drivers for Suburban cities is {median_suburban_drivers}.\")\n",
    "\n",
    "mode_suburban_drivers = sts.mode(suburban_drivers)\n",
    "print(f\"The median number of drivers for Suburban cities is {mode_suburban_drivers}.\")"
   ]
  },
  {
   "cell_type": "code",
   "execution_count": null,
   "id": "fbc1d6aa",
   "metadata": {},
   "outputs": [],
   "source": []
  },
  {
   "cell_type": "code",
   "execution_count": 627,
   "id": "2a136f22",
   "metadata": {},
   "outputs": [
    {
     "name": "stdout",
     "output_type": "stream",
     "text": [
      "The mean number of drivers for Rural cities is 4.30.\n",
      "The median number of drivers for Rural cities is 4.0.\n",
      "The median number of drivers for Rural cities is ModeResult(mode=array([1], dtype=int64), count=array([32])).\n"
     ]
    }
   ],
   "source": [
    "# Central Tendency Rural Cities and number of drivers for each city\n",
    "\n",
    "mean_rural_drivers = np.mean(rural_drivers)\n",
    "print(f\"The mean number of drivers for Rural cities is {mean_rural_drivers:.2f}.\")\n",
    "\n",
    "median_rural_drivers =np.median(rural_drivers)\n",
    "print(f\"The median number of drivers for Rural cities is {median_rural_drivers}.\")\n",
    "\n",
    "mode_rural_drivers = sts.mode(rural_drivers)\n",
    "print(f\"The median number of drivers for Rural cities is {mode_rural_drivers}.\")"
   ]
  },
  {
   "cell_type": "code",
   "execution_count": null,
   "id": "a8c23106",
   "metadata": {},
   "outputs": [],
   "source": []
  },
  {
   "cell_type": "code",
   "execution_count": 628,
   "id": "a71ef780",
   "metadata": {},
   "outputs": [],
   "source": [
    "#5.4.4 Create Box and Whisker"
   ]
  },
  {
   "cell_type": "code",
   "execution_count": 629,
   "id": "2a844562",
   "metadata": {},
   "outputs": [],
   "source": [
    "# Box and Whisker Plots for Ride Count Data for Each City Type\n",
    "\n",
    "#Creating a box-and-whisker plot requires that we use the ax.boxplot() function, \n",
    "#which takes an array inside the parentheses"
   ]
  },
  {
   "cell_type": "code",
   "execution_count": 630,
   "id": "22e11de8",
   "metadata": {},
   "outputs": [
    {
     "data": {
      "image/png": "[encoded data removed]",
      "text/plain": [
       "<Figure size 432x288 with 1 Axes>"
      ]
     },
     "metadata": {
      "needs_background": "light"
     },
     "output_type": "display_data"
    }
   ],
   "source": [
    "#Create a box and whisker plot for urban cities ride count \n",
    "\n",
    "x_labels = [\"Urban\"]\n",
    "\n",
    "fig,ax = plt.subplots()\n",
    "\n",
    "ax.boxplot(urban_ride_count, labels = x_labels)\n",
    "\n",
    "#Add title, yaxis label and grid\n",
    "\n",
    "ax.set_title(\"Ride Count Data(2019)\")\n",
    "ax.set_ylabel('Number of Rides')\n",
    "ax.set_yticks(np.arange(10, 41, step=2.0))\n",
    "\n",
    "ax.grid()\n",
    "\n",
    "plt.show()\n",
    "\n",
    "\n",
    "\n",
    "\n",
    "\n"
   ]
  },
  {
   "cell_type": "code",
   "execution_count": 631,
   "id": "bd35ab91",
   "metadata": {},
   "outputs": [],
   "source": [
    "#5.4.4 Skill Drill make a box and whisker chart for Suburban and Rural Cities"
   ]
  },
  {
   "cell_type": "code",
   "execution_count": 632,
   "id": "188e3234",
   "metadata": {},
   "outputs": [
    {
     "data": {
      "image/png": "[encoded data removed]",
      "text/plain": [
       "<Figure size 432x288 with 1 Axes>"
      ]
     },
     "metadata": {
      "needs_background": "light"
     },
     "output_type": "display_data"
    }
   ],
   "source": [
    "#Create a boc and whisket plot for suburban cities ride count\n",
    "\n",
    "x_labels = [\"Suburban\"]\n",
    "\n",
    "fig,ax =plt.subplots()\n",
    "ax.boxplot(suburban_ride_count, labels= x_labels)\n",
    "\n",
    "#Add title\n",
    "ax.set_title(\"Ride Count Data(2019)\")\n",
    "\n",
    "#Add yaxis label and ticks\n",
    "ax.set_ylabel(\"Number of Rides\")\n",
    "ax.set_yticks(np.arange(2, 30, step= 2.0))\n",
    "\n",
    "#Add Grid\n",
    "ax.grid()\n",
    "\n",
    "plt.show()"
   ]
  },
  {
   "cell_type": "code",
   "execution_count": null,
   "id": "926fe302",
   "metadata": {},
   "outputs": [],
   "source": []
  },
  {
   "cell_type": "code",
   "execution_count": 633,
   "id": "e9b8c866",
   "metadata": {},
   "outputs": [
    {
     "data": {
      "image/png": "[encoded data removed]",
      "text/plain": [
       "<Figure size 432x288 with 1 Axes>"
      ]
     },
     "metadata": {
      "needs_background": "light"
     },
     "output_type": "display_data"
    }
   ],
   "source": [
    "#Create a box and whisker plot for rural cities ride count \n",
    "\n",
    "x_labels = [\"Rural\"]\n",
    "\n",
    "fig, ax = plt.subplots()\n",
    "ax.boxplot(rural_ride_count, labels = x_labels)\n",
    "\n",
    "#Add Title\n",
    "ax.set_title(\"Ride Count Data (2019)\")\n",
    "\n",
    "#Add yaxis label and ticks\n",
    "ax.set_ylabel(\"Number of Rides\")\n",
    "ax.set_yticks(np.arange(0, 15, step = 1.0))\n",
    "\n",
    "#Add Grid \n",
    "ax.grid()\n",
    "\n",
    "#Show Plot\n",
    "plt.show()\n",
    "\n",
    "\n",
    "\n",
    "\n"
   ]
  },
  {
   "cell_type": "code",
   "execution_count": null,
   "id": "c937fc05",
   "metadata": {},
   "outputs": [],
   "source": []
  },
  {
   "cell_type": "code",
   "execution_count": 634,
   "id": "99b912b5",
   "metadata": {},
   "outputs": [],
   "source": [
    "#Combine into one plot\n",
    "#To show all the city type box-and-whisker plots on one chart we need to\n",
    "#modify the boxplot()function and add other features."
   ]
  },
  {
   "cell_type": "code",
   "execution_count": 635,
   "id": "ef8a8181",
   "metadata": {},
   "outputs": [
    {
     "data": {
      "image/png": "[encoded data removed]",
      "text/plain": [
       "<Figure size 720x432 with 1 Axes>"
      ]
     },
     "metadata": {
      "needs_background": "light"
     },
     "output_type": "display_data"
    }
   ],
   "source": [
    "#Add all the ride count box and whisker plots to the same graph\n",
    "\n",
    "x_labels = [\"Urban\", 'Suburban', 'Rural']\n",
    "\n",
    "ride_count_data = [urban_ride_count, suburban_ride_count, rural_ride_count]\n",
    "\n",
    "#Now Create the figure and Set Figure Size using figure()inside the ()\n",
    "\n",
    "fig, ax = plt.subplots(figsize=(10, 6))\n",
    "\n",
    "#Add Title\n",
    "ax.set_title('Ride Count Figure',fontsize=20)\n",
    "\n",
    "#Add x/y axes labels w/ fontsizes \n",
    "ax.set_xlabel('Number of Rides', fontsize=14)\n",
    "ax.set_ylabel('City Types',fontsize=14)\n",
    "\n",
    "#Now add in the ax plot\n",
    "\n",
    "ax.boxplot(ride_count_data, labels= x_labels)\n",
    "\n",
    "#Set y ticks\n",
    "ax.set_yticks(np.arange(0, 45, step = 3.0))\n",
    "\n",
    "#Add grid\n",
    "ax.grid()\n",
    "\n",
    "#Save Figure\n",
    "plt.savefig(\"Ride_Count_Figure.png\")\n",
    "\n",
    "#Show Plot\n",
    "plt.show()\n",
    "\n",
    "\n"
   ]
  },
  {
   "cell_type": "code",
   "execution_count": 636,
   "id": "f24315a7",
   "metadata": {},
   "outputs": [],
   "source": [
    "#There is one outlier in the urban ride count data. Also, the average number of rides in the rural cities\n",
    "#is about 4- and3.5-times lower per city than the urban and suburban cities, respectively"
   ]
  },
  {
   "cell_type": "code",
   "execution_count": null,
   "id": "2e131096",
   "metadata": {},
   "outputs": [],
   "source": []
  },
  {
   "cell_type": "code",
   "execution_count": 637,
   "id": "1c10b1db",
   "metadata": {},
   "outputs": [
    {
     "name": "stdout",
     "output_type": "stream",
     "text": [
      "West Angela has the highest rider count.\n"
     ]
    }
   ],
   "source": [
    "#Get the city that matches 39\n",
    "\n",
    "urban_cities_outlier= urban_ride_count[urban_ride_count==39].index[0]\n",
    "print(f\"{urban_cities_outlier} has the highest rider count.\")"
   ]
  },
  {
   "cell_type": "code",
   "execution_count": null,
   "id": "e92b7937",
   "metadata": {},
   "outputs": [],
   "source": []
  },
  {
   "cell_type": "code",
   "execution_count": 638,
   "id": "48b465cf",
   "metadata": {},
   "outputs": [],
   "source": [
    "#Box and Whisker Plots for Ride Fare Data"
   ]
  },
  {
   "cell_type": "code",
   "execution_count": 639,
   "id": "b8782348",
   "metadata": {},
   "outputs": [],
   "source": [
    "#Next lets create a box and whisker plot for Ride Fare Data"
   ]
  },
  {
   "cell_type": "code",
   "execution_count": 640,
   "id": "c12b1127",
   "metadata": {},
   "outputs": [
    {
     "data": {
      "image/png": "[encoded data removed]",
      "text/plain": [
       "<Figure size 432x288 with 1 Axes>"
      ]
     },
     "metadata": {
      "needs_background": "light"
     },
     "output_type": "display_data"
    },
    {
     "name": "stdout",
     "output_type": "stream",
     "text": [
      "Summary Statistics\n"
     ]
    },
    {
     "data": {
      "text/plain": [
       "count    1625.000000\n",
       "mean       24.525772\n",
       "std        11.738649\n",
       "min         4.050000\n",
       "25%        14.550000\n",
       "50%        24.640000\n",
       "75%        34.580000\n",
       "max        44.970000\n",
       "Name: fare, dtype: float64"
      ]
     },
     "execution_count": 640,
     "metadata": {},
     "output_type": "execute_result"
    }
   ],
   "source": [
    "#Create Box and Whisker plot for Urban fare Data\n",
    "\n",
    "#Set x axis label\n",
    "x_labels = [\"Urban\"]\n",
    "\n",
    "#Create box plot\n",
    "fig, ax = plt.subplots()\n",
    "ax.boxplot(urban_fares, labels=x_labels)\n",
    "\n",
    "# Add the title,  and grid.\n",
    "ax.set_title('Ride Fare Data (2019)')\n",
    "\n",
    "# Set y-axis label and ticks\n",
    "ax.set_ylabel('Fare($USD)')\n",
    "ax.set_yticks(np.arange(0, 51, step=5.0))\n",
    "\n",
    "#Add Grid\n",
    "ax.grid()\n",
    "\n",
    "#Show plot()\n",
    "plt.show()\n",
    "\n",
    "\n",
    "print(\"Summary Statistics\")\n",
    "urban_fares.describe()"
   ]
  },
  {
   "cell_type": "code",
   "execution_count": null,
   "id": "91622a22",
   "metadata": {},
   "outputs": [],
   "source": []
  },
  {
   "cell_type": "code",
   "execution_count": 641,
   "id": "006fbf92",
   "metadata": {},
   "outputs": [
    {
     "data": {
      "image/png": "[encoded data removed]",
      "text/plain": [
       "<Figure size 432x288 with 1 Axes>"
      ]
     },
     "metadata": {
      "needs_background": "light"
     },
     "output_type": "display_data"
    },
    {
     "name": "stdout",
     "output_type": "stream",
     "text": [
      "Summary Statistics\n"
     ]
    },
    {
     "data": {
      "text/plain": [
       "count    625.000000\n",
       "mean      30.970128\n",
       "std       10.677508\n",
       "min       12.050000\n",
       "25%       21.970000\n",
       "50%       30.750000\n",
       "75%       39.830000\n",
       "max       49.960000\n",
       "Name: fare, dtype: float64"
      ]
     },
     "execution_count": 641,
     "metadata": {},
     "output_type": "execute_result"
    }
   ],
   "source": [
    "#Create Box and Whiskey for Suburban fare data\n",
    "\n",
    "#Set x axis label\n",
    "x_labels = [\"Suburban\"]\n",
    "\n",
    "#Create box plot\n",
    "fig, ax = plt.subplots()\n",
    "ax.boxplot(suburban_fares, labels=x_labels)\n",
    "\n",
    "# Add the title,  and grid.\n",
    "ax.set_title('Ride Fare Data (2019)')\n",
    "\n",
    "# Set y-axis label and ticks\n",
    "ax.set_ylabel('Fare($USD)')\n",
    "ax.set_yticks(np.arange(0, 55, step=5.0))\n",
    "\n",
    "#Add Grid\n",
    "ax.grid()\n",
    "\n",
    "#Show plot()\n",
    "plt.show()\n",
    "\n",
    "\n",
    "print(\"Summary Statistics\")\n",
    "suburban_fares.describe()"
   ]
  },
  {
   "cell_type": "code",
   "execution_count": null,
   "id": "8a24d45d",
   "metadata": {},
   "outputs": [],
   "source": []
  },
  {
   "cell_type": "code",
   "execution_count": 642,
   "id": "e23b882c",
   "metadata": {},
   "outputs": [
    {
     "data": {
      "image/png": "[encoded data removed]",
      "text/plain": [
       "<Figure size 432x288 with 1 Axes>"
      ]
     },
     "metadata": {
      "needs_background": "light"
     },
     "output_type": "display_data"
    },
    {
     "name": "stdout",
     "output_type": "stream",
     "text": [
      "Summary Statistics\n"
     ]
    },
    {
     "data": {
      "text/plain": [
       "count    125.000000\n",
       "mean      34.623440\n",
       "std       14.558046\n",
       "min       10.110000\n",
       "25%       19.900000\n",
       "50%       37.050000\n",
       "75%       47.070000\n",
       "max       58.550000\n",
       "Name: fare, dtype: float64"
      ]
     },
     "execution_count": 642,
     "metadata": {},
     "output_type": "execute_result"
    }
   ],
   "source": [
    "#Create Box and Whisker Plot for Rural fare data\n",
    "\n",
    "#Set x axis label\n",
    "x_labels = [\"Rural\"]\n",
    "\n",
    "#Create box plot\n",
    "fig, ax = plt.subplots()\n",
    "ax.boxplot(rural_fares, labels=x_labels)\n",
    "\n",
    "# Add the title,  and grid.\n",
    "ax.set_title('Ride Fare Data (2019)')\n",
    "\n",
    "# Set y-axis label and ticks\n",
    "ax.set_ylabel('Fare($USD)')\n",
    "ax.set_yticks(np.arange(0, 70, step=5.0))\n",
    "\n",
    "#Add Grid\n",
    "ax.grid()\n",
    "\n",
    "#Show plot()\n",
    "plt.show()\n",
    "\n",
    "\n",
    "print(\"Summary Statistics\")\n",
    "rural_fares.describe()"
   ]
  },
  {
   "cell_type": "code",
   "execution_count": null,
   "id": "7242f7d2",
   "metadata": {},
   "outputs": [],
   "source": []
  },
  {
   "cell_type": "code",
   "execution_count": 643,
   "id": "19d39d24",
   "metadata": {},
   "outputs": [
    {
     "data": {
      "image/png": "[encoded data removed]",
      "text/plain": [
       "<Figure size 720x432 with 1 Axes>"
      ]
     },
     "metadata": {
      "needs_background": "light"
     },
     "output_type": "display_data"
    }
   ],
   "source": [
    "#Add all the fare price box and whisker plots to the same graph\n",
    "\n",
    "x_labels = [\"Urban\", 'Suburban', 'Rural']\n",
    "\n",
    "ride_count_data = [urban_fares, suburban_fares, rural_fares]\n",
    "\n",
    "#Now Create the figure and Set Figure Size using figure()inside the ()\n",
    "\n",
    "fig, ax = plt.subplots(figsize=(10, 6))\n",
    "\n",
    "#Add Title\n",
    "ax.set_title('Ride Fare Data (2019)',fontsize=20)\n",
    "\n",
    "#Add x/y axes labels w/ fontsizes \n",
    "ax.set_xlabel('City Types', fontsize=14)\n",
    "ax.set_ylabel('Fare($USD)',fontsize=14)\n",
    "\n",
    "#Now add in the ax plot\n",
    "\n",
    "ax.boxplot(ride_count_data, labels= x_labels)\n",
    "\n",
    "#Set y ticks\n",
    "ax.set_yticks(np.arange(0, 60, step = 5.0))\n",
    "\n",
    "#Add grid\n",
    "ax.grid()\n",
    "\n",
    "#Save Figure\n",
    "plt.savefig(\"Ride_Fare_Data.png\")\n",
    "\n",
    "#Show Plot\n",
    "plt.show()\n",
    "\n",
    "\n"
   ]
  },
  {
   "cell_type": "code",
   "execution_count": 644,
   "id": "71cc3aff",
   "metadata": {},
   "outputs": [],
   "source": [
    "#From the combined box-and-whisker plots, we see that there are no outliers. However,\n",
    "#the average fare for rides in the rural cities is about $11 and $5 more per ride than\n",
    "#the urban and suburban cities, respectively. Why do you think there is such a big difference?\n",
    "#By looking at the number of riders for each city,\n",
    "#can you get a sense of the overall revenue?"
   ]
  },
  {
   "cell_type": "code",
   "execution_count": null,
   "id": "693b4fa0",
   "metadata": {},
   "outputs": [],
   "source": []
  },
  {
   "cell_type": "code",
   "execution_count": 645,
   "id": "e982790d",
   "metadata": {},
   "outputs": [
    {
     "data": {
      "image/png": "[encoded data removed]",
      "text/plain": [
       "<Figure size 432x288 with 1 Axes>"
      ]
     },
     "metadata": {
      "needs_background": "light"
     },
     "output_type": "display_data"
    },
    {
     "name": "stdout",
     "output_type": "stream",
     "text": [
      "Summary Statistics\n"
     ]
    },
    {
     "data": {
      "text/plain": [
       "count    1625.000000\n",
       "mean       36.678154\n",
       "std        20.075545\n",
       "min         3.000000\n",
       "25%        22.000000\n",
       "50%        37.000000\n",
       "75%        52.000000\n",
       "max        73.000000\n",
       "Name: driver_count, dtype: float64"
      ]
     },
     "execution_count": 645,
     "metadata": {},
     "output_type": "execute_result"
    }
   ],
   "source": [
    "#Create Box and Whisker Plot for Urban driver count Data\n",
    "\n",
    "#Set x axis label\n",
    "x_labels = [\"Urban\"]\n",
    "\n",
    "#Create box plot\n",
    "fig, ax = plt.subplots()\n",
    "ax.boxplot(urban_drivers, labels=x_labels)\n",
    "\n",
    "# Add the title,  and grid.\n",
    "ax.set_title('Driver Count Data (2019)')\n",
    "\n",
    "# Set y-axis label and ticks\n",
    "ax.set_ylabel('Number of Drivers')\n",
    "ax.set_yticks(np.arange(0, 80, step=5.0))\n",
    "\n",
    "#Add Grid\n",
    "ax.grid()\n",
    "\n",
    "#Show plot()\n",
    "plt.show()\n",
    "\n",
    "\n",
    "print(\"Summary Statistics\")\n",
    "urban_drivers.describe()"
   ]
  },
  {
   "cell_type": "code",
   "execution_count": null,
   "id": "2106ec38",
   "metadata": {},
   "outputs": [],
   "source": []
  },
  {
   "cell_type": "code",
   "execution_count": 646,
   "id": "efcb63e4",
   "metadata": {},
   "outputs": [
    {
     "data": {
      "image/png": "[encoded data removed]",
      "text/plain": [
       "<Figure size 432x288 with 1 Axes>"
      ]
     },
     "metadata": {
      "needs_background": "light"
     },
     "output_type": "display_data"
    },
    {
     "name": "stdout",
     "output_type": "stream",
     "text": [
      "Summary Statistics\n"
     ]
    },
    {
     "data": {
      "text/plain": [
       "count    625.000000\n",
       "mean      13.712000\n",
       "std        8.042372\n",
       "min        1.000000\n",
       "25%        5.000000\n",
       "50%       16.000000\n",
       "75%       21.000000\n",
       "max       25.000000\n",
       "Name: driver_count, dtype: float64"
      ]
     },
     "execution_count": 646,
     "metadata": {},
     "output_type": "execute_result"
    }
   ],
   "source": [
    "#Create Box and Whisker for Suburban Driver Count Data\n",
    "\n",
    "#Set x axis label\n",
    "x_labels = [\"Suburban\"]\n",
    "\n",
    "#Create box plot\n",
    "fig, ax = plt.subplots()\n",
    "ax.boxplot(suburban_drivers, labels=x_labels)\n",
    "\n",
    "# Add the title,  and grid.\n",
    "ax.set_title('Driver Count Data (2019)')\n",
    "\n",
    "# Set y-axis label and ticks\n",
    "ax.set_ylabel('Number of Drivers')\n",
    "ax.set_yticks(np.arange(0, 51, step=5.0))\n",
    "\n",
    "#Add Grid\n",
    "ax.grid()\n",
    "\n",
    "#Show plot()\n",
    "plt.show()\n",
    "\n",
    "\n",
    "print(\"Summary Statistics\")\n",
    "suburban_drivers.describe()"
   ]
  },
  {
   "cell_type": "code",
   "execution_count": null,
   "id": "ac43ef90",
   "metadata": {},
   "outputs": [],
   "source": []
  },
  {
   "cell_type": "code",
   "execution_count": 647,
   "id": "94e5b91f",
   "metadata": {},
   "outputs": [
    {
     "data": {
      "image/png": "[encoded data removed]",
      "text/plain": [
       "<Figure size 432x288 with 1 Axes>"
      ]
     },
     "metadata": {
      "needs_background": "light"
     },
     "output_type": "display_data"
    },
    {
     "name": "stdout",
     "output_type": "stream",
     "text": [
      "Summary Statistics\n"
     ]
    },
    {
     "data": {
      "text/plain": [
       "count    125.000000\n",
       "mean       4.296000\n",
       "std        2.691156\n",
       "min        1.000000\n",
       "25%        1.000000\n",
       "50%        4.000000\n",
       "75%        7.000000\n",
       "max        9.000000\n",
       "Name: driver_count, dtype: float64"
      ]
     },
     "execution_count": 647,
     "metadata": {},
     "output_type": "execute_result"
    }
   ],
   "source": [
    "#Create Box and Whisker plot for Rural Driver Count Data\n",
    "\n",
    "#Set x axis label\n",
    "x_labels = [\"Rural\"]\n",
    "\n",
    "#Create box plot\n",
    "fig, ax = plt.subplots()\n",
    "ax.boxplot(rural_drivers, labels=x_labels)\n",
    "\n",
    "# Add the title,  and grid.\n",
    "ax.set_title('Driver Count Data (2019)')\n",
    "\n",
    "# Set y-axis label and ticks\n",
    "ax.set_ylabel('Number of Drivers)')\n",
    "ax.set_yticks(np.arange(0, 12, step=1.0))\n",
    "\n",
    "#Add Grid\n",
    "ax.grid()\n",
    "\n",
    "#Show plot()\n",
    "plt.show()\n",
    "\n",
    "\n",
    "print(\"Summary Statistics\")\n",
    "rural_drivers.describe()"
   ]
  },
  {
   "cell_type": "code",
   "execution_count": null,
   "id": "73b8943e",
   "metadata": {},
   "outputs": [],
   "source": []
  },
  {
   "cell_type": "code",
   "execution_count": 648,
   "id": "4f9c0360",
   "metadata": {},
   "outputs": [
    {
     "data": {
      "image/png": "[encoded data removed]",
      "text/plain": [
       "<Figure size 720x432 with 1 Axes>"
      ]
     },
     "metadata": {
      "needs_background": "light"
     },
     "output_type": "display_data"
    }
   ],
   "source": [
    "#Add all the driver count box and whisker plots to the same graph\n",
    "\n",
    "x_labels = [\"Urban\", 'Suburban', 'Rural']\n",
    "\n",
    "ride_drivers_data = [urban_drivers, suburban_drivers, rural_drivers]\n",
    "\n",
    "#Now Create the figure and Set Figure Size using figure()inside the ()\n",
    "\n",
    "fig, ax = plt.subplots(figsize=(10, 6))\n",
    "\n",
    "#Add Title\n",
    "ax.set_title('Driver Count Data(2019)',fontsize=20)\n",
    "\n",
    "#Add x/y axes labels w/ fontsizes \n",
    "ax.set_xlabel('City Types', fontsize=14)\n",
    "ax.set_ylabel('Number of Drivers',fontsize=14)\n",
    "\n",
    "#Now add in the ax plot\n",
    "\n",
    "ax.boxplot(ride_drivers_data, labels= x_labels)\n",
    "\n",
    "#Set y ticks\n",
    "ax.set_yticks(np.arange(0, 80, step = 5.0))\n",
    "\n",
    "#Add grid\n",
    "ax.grid()\n",
    "\n",
    "#Save Figure\n",
    "plt.savefig(\"Driver_Count_Data.png\")\n",
    "\n",
    "#Show Plot\n",
    "plt.show()\n",
    "\n",
    "\n"
   ]
  },
  {
   "cell_type": "code",
   "execution_count": 649,
   "id": "36d09d89",
   "metadata": {},
   "outputs": [],
   "source": [
    "#The average number of drivers in rural cities is nine to four times less per city\n",
    "#than in urban and suburban cities, respectively.By looking at the driver count\n",
    "#data and fare data, can you get a sense of the overall revenue?"
   ]
  },
  {
   "cell_type": "code",
   "execution_count": 650,
   "id": "ae8c0ae9",
   "metadata": {},
   "outputs": [],
   "source": [
    "#Create Box and Whiskey Templete\n",
    "\n",
    "#Set x axis label\n",
    "#x_labels = [\"\"]\n",
    "\n",
    "#Create box plot\n",
    "#fig, ax = plt.subplots()\n",
    "#ax.boxplot(_fares, labels=x_labels)\n",
    "\n",
    "# Add the title,  and grid.\n",
    "#ax.set_title('Ride Fare Data (2019)')\n",
    "\n",
    "# Set y-axis label and ticks\n",
    "#ax.set_ylabel('Fare($USD)')\n",
    "#ax.set_yticks(np.arange(0, 51, step=5.0))\n",
    "\n",
    "#Add Grid\n",
    "#ax.grid()\n",
    "\n",
    "#Show plot()\n",
    "#plt.show()\n",
    "\n",
    "\n",
    "#print(\"Summary Statistics\")\n",
    "#urban_fares.describe()"
   ]
  },
  {
   "cell_type": "code",
   "execution_count": null,
   "id": "28a946af",
   "metadata": {},
   "outputs": [],
   "source": []
  },
  {
   "cell_type": "code",
   "execution_count": 651,
   "id": "ac782cce",
   "metadata": {},
   "outputs": [],
   "source": [
    "#5.4.5 Commit Code"
   ]
  },
  {
   "cell_type": "code",
   "execution_count": null,
   "id": "e1b94365",
   "metadata": {},
   "outputs": [],
   "source": []
  },
  {
   "cell_type": "code",
   "execution_count": 652,
   "id": "4dca0563",
   "metadata": {},
   "outputs": [],
   "source": [
    "#5.5.1 Get the Percentage of Fares for Each City Type"
   ]
  },
  {
   "cell_type": "code",
   "execution_count": 653,
   "id": "3c68b315",
   "metadata": {},
   "outputs": [
    {
     "data": {
      "text/plain": [
       "type\n",
       "Rural        4327.93\n",
       "Suburban    19356.33\n",
       "Urban       39854.38\n",
       "Name: fare, dtype: float64"
      ]
     },
     "execution_count": 653,
     "metadata": {},
     "output_type": "execute_result"
    }
   ],
   "source": [
    "#Get the sum of the fares for each city type\n",
    "\n",
    "sum_fares_by_type = pyber_data_df.groupby([\"type\"]).sum()[\"fare\"]\n",
    "sum_fares_by_type"
   ]
  },
  {
   "cell_type": "code",
   "execution_count": 654,
   "id": "9ad198e8",
   "metadata": {},
   "outputs": [
    {
     "data": {
      "text/plain": [
       "63538.64"
      ]
     },
     "execution_count": 654,
     "metadata": {},
     "output_type": "execute_result"
    }
   ],
   "source": [
    "#Get the total Sum of fares\n",
    "\n",
    "total_fares = pyber_data_df['fare'].sum()\n",
    "total_fares"
   ]
  },
  {
   "cell_type": "code",
   "execution_count": 655,
   "id": "9af88e7f",
   "metadata": {},
   "outputs": [
    {
     "data": {
      "text/plain": [
       "type\n",
       "Rural        6.811493\n",
       "Suburban    30.463872\n",
       "Urban       62.724635\n",
       "Name: fare, dtype: float64"
      ]
     },
     "execution_count": 655,
     "metadata": {},
     "output_type": "execute_result"
    }
   ],
   "source": [
    "#Calculate the percentage of fare for each city type\n",
    "\n",
    "type_percents = 100* sum_fares_by_type /total_fares\n",
    "type_percents"
   ]
  },
  {
   "cell_type": "code",
   "execution_count": 656,
   "id": "d153b3f7",
   "metadata": {},
   "outputs": [],
   "source": [
    "#Another way is to calculate the type percents is to write the code above in one line\n",
    "\n",
    "#type_percents = 100* pyber_data_df.groupby([\"type\"]).sum()[\"fare\"] / pyber_data_df[\"fare\"].sum()\n",
    "#type_percents"
   ]
  },
  {
   "cell_type": "code",
   "execution_count": null,
   "id": "4f654d18",
   "metadata": {},
   "outputs": [],
   "source": []
  },
  {
   "cell_type": "code",
   "execution_count": 657,
   "id": "cab2bfba",
   "metadata": {},
   "outputs": [],
   "source": [
    "#5.5.2 Pie Chart for the Percentage of Fares by City Type"
   ]
  },
  {
   "cell_type": "code",
   "execution_count": null,
   "id": "a15dbbf3",
   "metadata": {},
   "outputs": [],
   "source": []
  },
  {
   "cell_type": "code",
   "execution_count": 658,
   "id": "f8b17095",
   "metadata": {},
   "outputs": [
    {
     "data": {
      "image/png": "[encoded data removed]",
      "text/plain": [
       "<Figure size 432x288 with 1 Axes>"
      ]
     },
     "metadata": {},
     "output_type": "display_data"
    }
   ],
   "source": [
    "#Build the percentage of fares by city type pie chart \n",
    "\n",
    "plt.pie(type_percents, labels=[\"Rural\", 'Suburban','Urban'])\n",
    "\n",
    "plt.show()"
   ]
  },
  {
   "cell_type": "code",
   "execution_count": 659,
   "id": "dd0833a7",
   "metadata": {},
   "outputs": [],
   "source": [
    "#Now that we have a basic pie chart, we can add a title, add the percentages,\n",
    "#change the color to adhere to the company color scheme,\n",
    "#add a shadow to the pie chart, and adjust the start angle."
   ]
  },
  {
   "cell_type": "code",
   "execution_count": 660,
   "id": "aa0fb120",
   "metadata": {},
   "outputs": [
    {
     "data": {
      "image/png": "[encoded data removed]",
      "text/plain": [
       "<Figure size 432x288 with 1 Axes>"
      ]
     },
     "metadata": {},
     "output_type": "display_data"
    }
   ],
   "source": [
    "#Build the percentage of fares by city type pie chart \n",
    "\n",
    "plt.pie(type_percents, \n",
    "        labels=[\"Rural\", 'Suburban','Urban'],\n",
    "        colors=[\"gold\",'lightskyblue','lightcoral'],\n",
    "        explode=[0,0,0.1],\n",
    "        autopct = '%1.1f%%',\n",
    "        shadow = True, startangle = 150 )\n",
    "plt.title('% of Total Fares by City Type')\n",
    "\n",
    "#Show Figure\n",
    "plt.show()"
   ]
  },
  {
   "cell_type": "code",
   "execution_count": 661,
   "id": "ddfbe645",
   "metadata": {},
   "outputs": [],
   "source": [
    "#Edit Code \n",
    "\n",
    "#Import mpl to change the plot configurations using rcParams\n",
    "\n",
    "import matplotlib as mpl"
   ]
  },
  {
   "cell_type": "code",
   "execution_count": 686,
   "id": "5a8f3a2e",
   "metadata": {},
   "outputs": [
    {
     "data": {
      "image/png": "[encoded data removed]",
      "text/plain": [
       "<Figure size 720x432 with 1 Axes>"
      ]
     },
     "metadata": {},
     "output_type": "display_data"
    }
   ],
   "source": [
    "#Build the pie chart \n",
    "\n",
    "plt.subplots(figsize=(10, 6))\n",
    "\n",
    "plt.pie(type_percents, \n",
    "        \n",
    "        labels=[\"Rural\", 'Suburban','Urban'],\n",
    "        \n",
    "        colors=[\"gold\",'lightskyblue','lightcoral'],\n",
    "        \n",
    "        explode=[0,0,0.1],\n",
    "        \n",
    "        autopct = '%1.1f%%',\n",
    "        \n",
    "        shadow = True, startangle = 150 )\n",
    "\n",
    "plt.title('% of Total Fares by City Type')\n",
    "\n",
    "#Change the default font size from 10 to 14\n",
    "\n",
    "mpl.rcParams[\"font.size\"]=14\n",
    "\n",
    "#Save Figure\n",
    "plt.savefig(\"analysis/ Total Fare Pie Chart\")\n",
    "\n",
    "#Show Figure\n",
    "plt.show()"
   ]
  },
  {
   "cell_type": "code",
   "execution_count": null,
   "id": "e04bb0c0",
   "metadata": {},
   "outputs": [],
   "source": []
  },
  {
   "cell_type": "code",
   "execution_count": 663,
   "id": "21dc49f6",
   "metadata": {},
   "outputs": [],
   "source": [
    "#5.5.3 COmmit Code"
   ]
  },
  {
   "cell_type": "code",
   "execution_count": null,
   "id": "0175b1f3",
   "metadata": {},
   "outputs": [],
   "source": []
  },
  {
   "cell_type": "code",
   "execution_count": 664,
   "id": "ff95f300",
   "metadata": {},
   "outputs": [],
   "source": [
    "#5.6.1 Calculate the Ride Percentages"
   ]
  },
  {
   "cell_type": "code",
   "execution_count": 670,
   "id": "a2e01a1f",
   "metadata": {},
   "outputs": [
    {
     "data": {
      "text/plain": [
       "type\n",
       "Rural        5.005212\n",
       "Suburban    26.766722\n",
       "Urban       68.228066\n",
       "Name: ride_id, dtype: float64"
      ]
     },
     "execution_count": 670,
     "metadata": {},
     "output_type": "execute_result"
    }
   ],
   "source": [
    "#Calculate the ride percentage\n",
    "\n",
    "ride_percents = 100 * pyber_data_df.groupby(['type']).sum()['ride_id'] / pyber_data_df['ride_id'].sum()\n",
    "ride_percents "
   ]
  },
  {
   "cell_type": "code",
   "execution_count": null,
   "id": "a47e745f",
   "metadata": {},
   "outputs": [],
   "source": [
    "#5.6.2 "
   ]
  },
  {
   "cell_type": "code",
   "execution_count": 685,
   "id": "02233d53",
   "metadata": {},
   "outputs": [
    {
     "data": {
      "image/png": "[encoded data removed]",
      "text/plain": [
       "<Figure size 720x432 with 1 Axes>"
      ]
     },
     "metadata": {},
     "output_type": "display_data"
    }
   ],
   "source": [
    "#Build Pie Chart for data\n",
    "\n",
    "\n",
    "plt.subplots(figsize=(10, 6))\n",
    "\n",
    "plt.pie(ride_percents, \n",
    "        \n",
    "        labels=[\"Rural\", 'Suburban','Urban'],\n",
    "        \n",
    "        colors=[\"gold\",'lightskyblue','lightcoral'],\n",
    "        \n",
    "        explode=[0,0,0.1],\n",
    "        \n",
    "        autopct = '%1.1f%%',\n",
    "        \n",
    "        shadow = True, startangle = 150 )\n",
    "\n",
    "plt.title('% of Total Rides by City Type')\n",
    "\n",
    "#Change the default font size from 10 to 14\n",
    "\n",
    "mpl.rcParams[\"font.size\"]=14\n",
    "\n",
    "#Save Figure\n",
    "plt.savefig(\"analysis/ Total Rides Pie Chart\")\n",
    "\n",
    "#Show Figure\n",
    "plt.show()"
   ]
  },
  {
   "cell_type": "code",
   "execution_count": null,
   "id": "fc972593",
   "metadata": {},
   "outputs": [],
   "source": []
  },
  {
   "cell_type": "code",
   "execution_count": 674,
   "id": "dff0b3ce",
   "metadata": {},
   "outputs": [],
   "source": [
    "#5.7.1 Calculate Driver Percentage"
   ]
  },
  {
   "cell_type": "code",
   "execution_count": 681,
   "id": "40aa7e52",
   "metadata": {},
   "outputs": [
    {
     "data": {
      "text/plain": [
       "type\n",
       "Rural        2.623613\n",
       "Suburban    16.481668\n",
       "Urban       80.894719\n",
       "Name: driver_count, dtype: float64"
      ]
     },
     "execution_count": 681,
     "metadata": {},
     "output_type": "execute_result"
    }
   ],
   "source": [
    "#Calculate the Drive Percentages based on Type of City\n",
    "\n",
    "driver_percentages = 100* city_data_df.groupby([\"type\"]).sum()['driver_count'] / city_data_df['driver_count'].sum()\n",
    "driver_percentages"
   ]
  },
  {
   "cell_type": "code",
   "execution_count": 684,
   "id": "1476a9a9",
   "metadata": {},
   "outputs": [
    {
     "data": {
      "image/png": "[encoded data removed]",
      "text/plain": [
       "<Figure size 720x432 with 1 Axes>"
      ]
     },
     "metadata": {},
     "output_type": "display_data"
    }
   ],
   "source": [
    "#5.7.2 Create the pie Chart for Driver Percentages\n",
    "\n",
    "#Build Pie Chart for data\n",
    "\n",
    "\n",
    "plt.subplots(figsize=(10, 6))\n",
    "\n",
    "plt.pie(driver_percentages, \n",
    "        \n",
    "        labels=[\"Rural\", 'Suburban','Urban'],\n",
    "        \n",
    "        colors=[\"gold\",'lightskyblue','lightcoral'],\n",
    "        \n",
    "        explode=[0.,0,0.1],\n",
    "        \n",
    "        autopct = '%1.1f%%',\n",
    "        \n",
    "        shadow = True, startangle = 150 )\n",
    "\n",
    "plt.title('% of Total Rides by City Type')\n",
    "\n",
    "#Change the default font size from 10 to 14\n",
    "\n",
    "mpl.rcParams[\"font.size\"]=14\n",
    "\n",
    "#Save Figure\n",
    "plt.savefig(\"analysis/ Total Drivers Pie Chart\")\n",
    "\n",
    "#Show Figure\n",
    "plt.show()"
   ]
  },
  {
   "cell_type": "code",
   "execution_count": null,
   "id": "13622e93",
   "metadata": {},
   "outputs": [],
   "source": []
  }
 ],
 "metadata": {
  "kernelspec": {
   "display_name": "PythonData",
   "language": "python",
   "name": "pythondata"
  },
  "language_info": {
   "codemirror_mode": {
    "name": "ipython",
    "version": 3
   },
   "file_extension": ".py",
   "mimetype": "text/x-python",
   "name": "python",
   "nbconvert_exporter": "python",
   "pygments_lexer": "ipython3",
   "version": "3.7.13"
  }
 },
 "nbformat": 4,
 "nbformat_minor": 5
}
